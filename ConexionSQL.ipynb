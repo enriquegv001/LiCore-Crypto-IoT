{
  "cells": [
    {
      "cell_type": "code",
      "execution_count": 1,
      "metadata": {
        "colab": {
          "base_uri": "https://localhost:8080/"
        },
        "id": "6otdooL2Ju2t",
        "outputId": "1a4bd863-1653-4fce-8cce-3268be38a7c9"
      },
      "outputs": [
        {
          "name": "stdout",
          "output_type": "stream",
          "text": [
            "Collecting pymysql\n",
            "  Downloading PyMySQL-1.0.3-py3-none-any.whl (43 kB)\n",
            "     -------------------------------------- 43.7/43.7 kB 360.3 kB/s eta 0:00:00\n",
            "Installing collected packages: pymysql\n",
            "Successfully installed pymysql-1.0.3\n",
            "Requirement already satisfied: mysql.connector in c:\\users\\enrique\\appdata\\local\\programs\\python\\python310\\lib\\site-packages (2.2.9)\n"
          ]
        }
      ],
      "source": [
        "!pip install pymysql\n",
        "!pip install mysql.connector"
      ]
    },
    {
      "attachments": {},
      "cell_type": "markdown",
      "metadata": {
        "id": "BrhMq0yW3QL2"
      },
      "source": [
        "#Librerías y descripción datos"
      ]
    },
    {
      "cell_type": "code",
      "execution_count": 3,
      "metadata": {
        "id": "fPVszFRB8g-P"
      },
      "outputs": [],
      "source": [
        "import pandas as pd\n",
        "import mysql.connector as SQLC"
      ]
    },
    {
      "cell_type": "code",
      "execution_count": 5,
      "metadata": {
        "colab": {
          "base_uri": "https://localhost:8080/"
        },
        "id": "ALAsdu0gzlwB",
        "outputId": "b02f7f2d-2182-450c-e91f-45aec43a643c"
      },
      "outputs": [
        {
          "data": {
            "text/html": [
              "<div>\n",
              "<style scoped>\n",
              "    .dataframe tbody tr th:only-of-type {\n",
              "        vertical-align: middle;\n",
              "    }\n",
              "\n",
              "    .dataframe tbody tr th {\n",
              "        vertical-align: top;\n",
              "    }\n",
              "\n",
              "    .dataframe thead th {\n",
              "        text-align: right;\n",
              "    }\n",
              "</style>\n",
              "<table border=\"1\" class=\"dataframe\">\n",
              "  <thead>\n",
              "    <tr style=\"text-align: right;\">\n",
              "      <th></th>\n",
              "      <th>ID</th>\n",
              "      <th>Consumo (0) / Producción (1)</th>\n",
              "      <th>Dia</th>\n",
              "      <th>Mes</th>\n",
              "      <th>Año</th>\n",
              "      <th>1</th>\n",
              "      <th>2</th>\n",
              "      <th>3</th>\n",
              "      <th>4</th>\n",
              "      <th>5</th>\n",
              "      <th>...</th>\n",
              "      <th>87</th>\n",
              "      <th>88</th>\n",
              "      <th>89</th>\n",
              "      <th>90</th>\n",
              "      <th>91</th>\n",
              "      <th>92</th>\n",
              "      <th>93</th>\n",
              "      <th>94</th>\n",
              "      <th>95</th>\n",
              "      <th>96</th>\n",
              "    </tr>\n",
              "  </thead>\n",
              "  <tbody>\n",
              "    <tr>\n",
              "      <th>0</th>\n",
              "      <td>ABC</td>\n",
              "      <td>0</td>\n",
              "      <td>2</td>\n",
              "      <td>11</td>\n",
              "      <td>2013</td>\n",
              "      <td>58.00</td>\n",
              "      <td>75.0</td>\n",
              "      <td>65.0</td>\n",
              "      <td>0.08</td>\n",
              "      <td>67.0</td>\n",
              "      <td>...</td>\n",
              "      <td>338.0</td>\n",
              "      <td>369.0</td>\n",
              "      <td>318.00</td>\n",
              "      <td>322.0</td>\n",
              "      <td>345.0</td>\n",
              "      <td>298.00</td>\n",
              "      <td>316.00</td>\n",
              "      <td>299.0</td>\n",
              "      <td>341.00</td>\n",
              "      <td>304.0</td>\n",
              "    </tr>\n",
              "    <tr>\n",
              "      <th>1</th>\n",
              "      <td>ABC</td>\n",
              "      <td>0</td>\n",
              "      <td>3</td>\n",
              "      <td>11</td>\n",
              "      <td>2013</td>\n",
              "      <td>0.16</td>\n",
              "      <td>0.1</td>\n",
              "      <td>68.0</td>\n",
              "      <td>69.00</td>\n",
              "      <td>75.0</td>\n",
              "      <td>...</td>\n",
              "      <td>67.0</td>\n",
              "      <td>74.0</td>\n",
              "      <td>61.00</td>\n",
              "      <td>84.0</td>\n",
              "      <td>74.0</td>\n",
              "      <td>67.00</td>\n",
              "      <td>77.00</td>\n",
              "      <td>91.0</td>\n",
              "      <td>0.07</td>\n",
              "      <td>61.0</td>\n",
              "    </tr>\n",
              "    <tr>\n",
              "      <th>2</th>\n",
              "      <td>ABC</td>\n",
              "      <td>0</td>\n",
              "      <td>4</td>\n",
              "      <td>11</td>\n",
              "      <td>2013</td>\n",
              "      <td>0.08</td>\n",
              "      <td>66.0</td>\n",
              "      <td>77.0</td>\n",
              "      <td>64.00</td>\n",
              "      <td>84.0</td>\n",
              "      <td>...</td>\n",
              "      <td>114.0</td>\n",
              "      <td>106.0</td>\n",
              "      <td>128.00</td>\n",
              "      <td>511.0</td>\n",
              "      <td>74.0</td>\n",
              "      <td>84.00</td>\n",
              "      <td>59.00</td>\n",
              "      <td>69.0</td>\n",
              "      <td>69.00</td>\n",
              "      <td>71.0</td>\n",
              "    </tr>\n",
              "    <tr>\n",
              "      <th>3</th>\n",
              "      <td>ABC</td>\n",
              "      <td>0</td>\n",
              "      <td>5</td>\n",
              "      <td>11</td>\n",
              "      <td>2013</td>\n",
              "      <td>68.00</td>\n",
              "      <td>58.0</td>\n",
              "      <td>95.0</td>\n",
              "      <td>81.00</td>\n",
              "      <td>74.0</td>\n",
              "      <td>...</td>\n",
              "      <td>167.0</td>\n",
              "      <td>202.0</td>\n",
              "      <td>0.53</td>\n",
              "      <td>226.0</td>\n",
              "      <td>256.0</td>\n",
              "      <td>315.00</td>\n",
              "      <td>421.00</td>\n",
              "      <td>66.0</td>\n",
              "      <td>0.09</td>\n",
              "      <td>64.0</td>\n",
              "    </tr>\n",
              "    <tr>\n",
              "      <th>4</th>\n",
              "      <td>ABC</td>\n",
              "      <td>0</td>\n",
              "      <td>6</td>\n",
              "      <td>11</td>\n",
              "      <td>2013</td>\n",
              "      <td>77.00</td>\n",
              "      <td>61.0</td>\n",
              "      <td>97.0</td>\n",
              "      <td>65.00</td>\n",
              "      <td>78.0</td>\n",
              "      <td>...</td>\n",
              "      <td>117.0</td>\n",
              "      <td>345.0</td>\n",
              "      <td>351.00</td>\n",
              "      <td>69.0</td>\n",
              "      <td>57.0</td>\n",
              "      <td>0.07</td>\n",
              "      <td>0.07</td>\n",
              "      <td>72.0</td>\n",
              "      <td>56.00</td>\n",
              "      <td>78.0</td>\n",
              "    </tr>\n",
              "  </tbody>\n",
              "</table>\n",
              "<p>5 rows × 101 columns</p>\n",
              "</div>"
            ],
            "text/plain": [
              "    ID  Consumo (0) / Producción (1)  Dia  Mes    Año      1     2     3  \\\n",
              "0  ABC                             0    2    11  2013  58.00  75.0  65.0   \n",
              "1  ABC                             0    3    11  2013   0.16   0.1  68.0   \n",
              "2  ABC                             0    4    11  2013   0.08  66.0  77.0   \n",
              "3  ABC                             0    5    11  2013  68.00  58.0  95.0   \n",
              "4  ABC                             0    6    11  2013  77.00  61.0  97.0   \n",
              "\n",
              "       4     5  ...     87     88      89     90     91      92      93  \\\n",
              "0   0.08  67.0  ...  338.0  369.0  318.00  322.0  345.0  298.00  316.00   \n",
              "1  69.00  75.0  ...   67.0   74.0   61.00   84.0   74.0   67.00   77.00   \n",
              "2  64.00  84.0  ...  114.0  106.0  128.00  511.0   74.0   84.00   59.00   \n",
              "3  81.00  74.0  ...  167.0  202.0    0.53  226.0  256.0  315.00  421.00   \n",
              "4  65.00  78.0  ...  117.0  345.0  351.00   69.0   57.0    0.07    0.07   \n",
              "\n",
              "      94      95     96  \n",
              "0  299.0  341.00  304.0  \n",
              "1   91.0    0.07   61.0  \n",
              "2   69.0   69.00   71.0  \n",
              "3   66.0    0.09   64.0  \n",
              "4   72.0   56.00   78.0  \n",
              "\n",
              "[5 rows x 101 columns]"
            ]
          },
          "execution_count": 5,
          "metadata": {},
          "output_type": "execute_result"
        }
      ],
      "source": [
        "datos = pd.read_csv(r'Prosumer_ABC.csv', header = 0, sep = \";\")\n",
        "datos.head(5)"
      ]
    },
    {
      "cell_type": "code",
      "execution_count": 7,
      "metadata": {
        "id": "N2c-8SlGQiZR"
      },
      "outputs": [
        {
          "data": {
            "text/plain": [
              "letras     object\n",
              "tipo        int64\n",
              "Day         int64\n",
              "Month       int64\n",
              "Year        int64\n",
              "           ...   \n",
              "r92       float64\n",
              "r93       float64\n",
              "r94       float64\n",
              "r95       float64\n",
              "r96       float64\n",
              "Length: 101, dtype: object"
            ]
          },
          "execution_count": 7,
          "metadata": {},
          "output_type": "execute_result"
        }
      ],
      "source": [
        "datos.columns = ['letras','tipo','Day','Month','Year','r1','r2','r3','r4','r5','r6','r7','r8','r9','r10','r11','r12','r13','r14','r15','r16','r17','r18','r19','r20','r21','r22','r23','r24','r25','r26','r27','r28','r29','r30','r31','r32','r33','r34','r35','r36','r37','r38','r39','r40','r41','r42','r43','r44','r45','r46','r47','r48','r49','r50','r51','r52','r53','r54','r55','r56','r57','r58','r59','r60','r61','r62','r63','r64','r65','r66','r67','r68','r69','r70','r71','r72','r73','r74','r75','r76','r77','r78','r79','r80','r81','r82','r83','r84','r85','r86','r87','r88','r89','r90','r91','r92','r93','r94','r95','r96']\n",
        "datos.dtypes"
      ]
    },
    {
      "attachments": {},
      "cell_type": "markdown",
      "metadata": {
        "id": "R3wx2gpT3XZS"
      },
      "source": [
        "### Conexión base de datos"
      ]
    },
    {
      "attachments": {},
      "cell_type": "markdown",
      "metadata": {},
      "source": [
        "Creación de base de datos"
      ]
    },
    {
      "cell_type": "code",
      "execution_count": 9,
      "metadata": {
        "colab": {
          "base_uri": "https://localhost:8080/"
        },
        "id": "UWqHbQA1MsEy",
        "outputId": "05ae790e-fcf1-4028-8239-aab3cc2deb77"
      },
      "outputs": [
        {
          "name": "stdout",
          "output_type": "stream",
          "text": [
            "TEST1 base is created\n"
          ]
        }
      ],
      "source": [
        "DataBase = SQLC.connect(\n",
        "  host =\"databaseiot.cbzpcvsds3vs.us-east-1.rds.amazonaws.com\",\n",
        "  user =\"admin\",\n",
        "  password =\"Topos2023\"\n",
        ")\n",
        "Cursor = DataBase.cursor()\n",
        " \n",
        "#Cursor.execute(\"CREATE DATABASE TEST1\")\n",
        "print(\"TEST1 base is created\")\n"
      ]
    },
    {
      "cell_type": "code",
      "execution_count": 10,
      "metadata": {
        "id": "uShNetExPBKN"
      },
      "outputs": [],
      "source": [
        "# Se conecta  a la base de datos a través del endpoint\n",
        "DataBase = SQLC.connect(\n",
        "host =\"databaseiot.cbzpcvsds3vs.us-east-1.rds.amazonaws.com\",\n",
        "user =\"admin\",\n",
        "password =\"Topos2023\",\n",
        "database =\"TEST1\"\n",
        ")\n",
        " \n",
        "# Cursor a la database\n",
        "Cursor = DataBase.cursor()"
      ]
    },
    {
      "attachments": {},
      "cell_type": "markdown",
      "metadata": {},
      "source": [
        "Creación de tabla"
      ]
    },
    {
      "cell_type": "code",
      "execution_count": 11,
      "metadata": {
        "colab": {
          "base_uri": "https://localhost:8080/",
          "height": 123
        },
        "id": "MmwlTXRN-1Rf",
        "outputId": "63bb9d35-6891-46c2-bab2-b2e71597e56f"
      },
      "outputs": [
        {
          "data": {
            "text/plain": [
              "'r1 VARCHAR(100),r2 VARCHAR(100),r3 VARCHAR(100),r4 VARCHAR(100),r5 VARCHAR(100),r6 VARCHAR(100),r7 VARCHAR(100),r8 VARCHAR(100),r9 VARCHAR(100),r10 VARCHAR(100),r11 VARCHAR(100),r12 VARCHAR(100),r13 VARCHAR(100),r14 VARCHAR(100),r15 VARCHAR(100),r16 VARCHAR(100),r17 VARCHAR(100),r18 VARCHAR(100),r19 VARCHAR(100),r20 VARCHAR(100),r21 VARCHAR(100),r22 VARCHAR(100),r23 VARCHAR(100),r24 VARCHAR(100),r25 VARCHAR(100),r26 VARCHAR(100),r27 VARCHAR(100),r28 VARCHAR(100),r29 VARCHAR(100),r30 VARCHAR(100),r31 VARCHAR(100),r32 VARCHAR(100),r33 VARCHAR(100),r34 VARCHAR(100),r35 VARCHAR(100),r36 VARCHAR(100),r37 VARCHAR(100),r38 VARCHAR(100),r39 VARCHAR(100),r40 VARCHAR(100),r41 VARCHAR(100),r42 VARCHAR(100),r43 VARCHAR(100),r44 VARCHAR(100),r45 VARCHAR(100),r46 VARCHAR(100),r47 VARCHAR(100),r48 VARCHAR(100),r49 VARCHAR(100),r50 VARCHAR(100),r51 VARCHAR(100),r52 VARCHAR(100),r53 VARCHAR(100),r54 VARCHAR(100),r55 VARCHAR(100),r56 VARCHAR(100),r57 VARCHAR(100),r58 VARCHAR(100),r59 VARCHAR(100),r60 VARCHAR(100),r61 VARCHAR(100),r62 VARCHAR(100),r63 VARCHAR(100),r64 VARCHAR(100),r65 VARCHAR(100),r66 VARCHAR(100),r67 VARCHAR(100),r68 VARCHAR(100),r69 VARCHAR(100),r70 VARCHAR(100),r71 VARCHAR(100),r72 VARCHAR(100),r73 VARCHAR(100),r74 VARCHAR(100),r75 VARCHAR(100),r76 VARCHAR(100),r77 VARCHAR(100),r78 VARCHAR(100),r79 VARCHAR(100),r80 VARCHAR(100),r81 VARCHAR(100),r82 VARCHAR(100),r83 VARCHAR(100),r84 VARCHAR(100),r85 VARCHAR(100),r86 VARCHAR(100),r87 VARCHAR(100),r88 VARCHAR(100),r89 VARCHAR(100),r90 VARCHAR(100),r91 VARCHAR(100),r92 VARCHAR(100),r93 VARCHAR(100),r94 VARCHAR(100),r95 VARCHAR(100),r96 VARCHAR(100)'"
            ]
          },
          "execution_count": 11,
          "metadata": {},
          "output_type": "execute_result"
        }
      ],
      "source": [
        "letras = []\n",
        "for i in range(0,96):\n",
        "  letras.append(\"r%d VARCHAR(100)\"% (i+1))\n",
        "letras = \",\".join([str(item) for item in letras])\n",
        "letras"
      ]
    },
    {
      "cell_type": "code",
      "execution_count": 12,
      "metadata": {
        "colab": {
          "base_uri": "https://localhost:8080/"
        },
        "id": "Nf87mm-t_YJY",
        "outputId": "8385c21b-7c0f-4067-c878-441cfaf1719a"
      },
      "outputs": [
        {
          "name": "stdout",
          "output_type": "stream",
          "text": [
            "db1 is correctly created\n"
          ]
        }
      ],
      "source": [
        "Cursor.execute('DROP TABLE IF EXISTS db1;')\n",
        "TableName =\"CREATE TABLE db1(letras VARCHAR(100), tipo VARCHAR(100), Day VARCHAR(100),Month VARCHAR(100),Year VARCHAR(100),{} )\".format(letras)\n",
        "Cursor.execute(TableName)\n",
        "print(\"db1 is correctly created\")"
      ]
    },
    {
      "cell_type": "code",
      "execution_count": 13,
      "metadata": {
        "id": "oXuPXuHNAWZh"
      },
      "outputs": [
        {
          "name": "stdout",
          "output_type": "stream",
          "text": [
            "('letras', b'varchar(100)', 'YES', bytearray(b''), None, '')\n",
            "('tipo', b'varchar(100)', 'YES', bytearray(b''), None, '')\n",
            "('Day', b'varchar(100)', 'YES', bytearray(b''), None, '')\n",
            "('Month', b'varchar(100)', 'YES', bytearray(b''), None, '')\n",
            "('Year', b'varchar(100)', 'YES', bytearray(b''), None, '')\n",
            "('r1', b'varchar(100)', 'YES', bytearray(b''), None, '')\n",
            "('r2', b'varchar(100)', 'YES', bytearray(b''), None, '')\n",
            "('r3', b'varchar(100)', 'YES', bytearray(b''), None, '')\n",
            "('r4', b'varchar(100)', 'YES', bytearray(b''), None, '')\n",
            "('r5', b'varchar(100)', 'YES', bytearray(b''), None, '')\n",
            "('r6', b'varchar(100)', 'YES', bytearray(b''), None, '')\n",
            "('r7', b'varchar(100)', 'YES', bytearray(b''), None, '')\n",
            "('r8', b'varchar(100)', 'YES', bytearray(b''), None, '')\n",
            "('r9', b'varchar(100)', 'YES', bytearray(b''), None, '')\n",
            "('r10', b'varchar(100)', 'YES', bytearray(b''), None, '')\n",
            "('r11', b'varchar(100)', 'YES', bytearray(b''), None, '')\n",
            "('r12', b'varchar(100)', 'YES', bytearray(b''), None, '')\n",
            "('r13', b'varchar(100)', 'YES', bytearray(b''), None, '')\n",
            "('r14', b'varchar(100)', 'YES', bytearray(b''), None, '')\n",
            "('r15', b'varchar(100)', 'YES', bytearray(b''), None, '')\n",
            "('r16', b'varchar(100)', 'YES', bytearray(b''), None, '')\n",
            "('r17', b'varchar(100)', 'YES', bytearray(b''), None, '')\n",
            "('r18', b'varchar(100)', 'YES', bytearray(b''), None, '')\n",
            "('r19', b'varchar(100)', 'YES', bytearray(b''), None, '')\n",
            "('r20', b'varchar(100)', 'YES', bytearray(b''), None, '')\n",
            "('r21', b'varchar(100)', 'YES', bytearray(b''), None, '')\n",
            "('r22', b'varchar(100)', 'YES', bytearray(b''), None, '')\n",
            "('r23', b'varchar(100)', 'YES', bytearray(b''), None, '')\n",
            "('r24', b'varchar(100)', 'YES', bytearray(b''), None, '')\n",
            "('r25', b'varchar(100)', 'YES', bytearray(b''), None, '')\n",
            "('r26', b'varchar(100)', 'YES', bytearray(b''), None, '')\n",
            "('r27', b'varchar(100)', 'YES', bytearray(b''), None, '')\n",
            "('r28', b'varchar(100)', 'YES', bytearray(b''), None, '')\n",
            "('r29', b'varchar(100)', 'YES', bytearray(b''), None, '')\n",
            "('r30', b'varchar(100)', 'YES', bytearray(b''), None, '')\n",
            "('r31', b'varchar(100)', 'YES', bytearray(b''), None, '')\n",
            "('r32', b'varchar(100)', 'YES', bytearray(b''), None, '')\n",
            "('r33', b'varchar(100)', 'YES', bytearray(b''), None, '')\n",
            "('r34', b'varchar(100)', 'YES', bytearray(b''), None, '')\n",
            "('r35', b'varchar(100)', 'YES', bytearray(b''), None, '')\n",
            "('r36', b'varchar(100)', 'YES', bytearray(b''), None, '')\n",
            "('r37', b'varchar(100)', 'YES', bytearray(b''), None, '')\n",
            "('r38', b'varchar(100)', 'YES', bytearray(b''), None, '')\n",
            "('r39', b'varchar(100)', 'YES', bytearray(b''), None, '')\n",
            "('r40', b'varchar(100)', 'YES', bytearray(b''), None, '')\n",
            "('r41', b'varchar(100)', 'YES', bytearray(b''), None, '')\n",
            "('r42', b'varchar(100)', 'YES', bytearray(b''), None, '')\n",
            "('r43', b'varchar(100)', 'YES', bytearray(b''), None, '')\n",
            "('r44', b'varchar(100)', 'YES', bytearray(b''), None, '')\n",
            "('r45', b'varchar(100)', 'YES', bytearray(b''), None, '')\n",
            "('r46', b'varchar(100)', 'YES', bytearray(b''), None, '')\n",
            "('r47', b'varchar(100)', 'YES', bytearray(b''), None, '')\n",
            "('r48', b'varchar(100)', 'YES', bytearray(b''), None, '')\n",
            "('r49', b'varchar(100)', 'YES', bytearray(b''), None, '')\n",
            "('r50', b'varchar(100)', 'YES', bytearray(b''), None, '')\n",
            "('r51', b'varchar(100)', 'YES', bytearray(b''), None, '')\n",
            "('r52', b'varchar(100)', 'YES', bytearray(b''), None, '')\n",
            "('r53', b'varchar(100)', 'YES', bytearray(b''), None, '')\n",
            "('r54', b'varchar(100)', 'YES', bytearray(b''), None, '')\n",
            "('r55', b'varchar(100)', 'YES', bytearray(b''), None, '')\n",
            "('r56', b'varchar(100)', 'YES', bytearray(b''), None, '')\n",
            "('r57', b'varchar(100)', 'YES', bytearray(b''), None, '')\n",
            "('r58', b'varchar(100)', 'YES', bytearray(b''), None, '')\n",
            "('r59', b'varchar(100)', 'YES', bytearray(b''), None, '')\n",
            "('r60', b'varchar(100)', 'YES', bytearray(b''), None, '')\n",
            "('r61', b'varchar(100)', 'YES', bytearray(b''), None, '')\n",
            "('r62', b'varchar(100)', 'YES', bytearray(b''), None, '')\n",
            "('r63', b'varchar(100)', 'YES', bytearray(b''), None, '')\n",
            "('r64', b'varchar(100)', 'YES', bytearray(b''), None, '')\n",
            "('r65', b'varchar(100)', 'YES', bytearray(b''), None, '')\n",
            "('r66', b'varchar(100)', 'YES', bytearray(b''), None, '')\n",
            "('r67', b'varchar(100)', 'YES', bytearray(b''), None, '')\n",
            "('r68', b'varchar(100)', 'YES', bytearray(b''), None, '')\n",
            "('r69', b'varchar(100)', 'YES', bytearray(b''), None, '')\n",
            "('r70', b'varchar(100)', 'YES', bytearray(b''), None, '')\n",
            "('r71', b'varchar(100)', 'YES', bytearray(b''), None, '')\n",
            "('r72', b'varchar(100)', 'YES', bytearray(b''), None, '')\n",
            "('r73', b'varchar(100)', 'YES', bytearray(b''), None, '')\n",
            "('r74', b'varchar(100)', 'YES', bytearray(b''), None, '')\n",
            "('r75', b'varchar(100)', 'YES', bytearray(b''), None, '')\n",
            "('r76', b'varchar(100)', 'YES', bytearray(b''), None, '')\n",
            "('r77', b'varchar(100)', 'YES', bytearray(b''), None, '')\n",
            "('r78', b'varchar(100)', 'YES', bytearray(b''), None, '')\n",
            "('r79', b'varchar(100)', 'YES', bytearray(b''), None, '')\n",
            "('r80', b'varchar(100)', 'YES', bytearray(b''), None, '')\n",
            "('r81', b'varchar(100)', 'YES', bytearray(b''), None, '')\n",
            "('r82', b'varchar(100)', 'YES', bytearray(b''), None, '')\n",
            "('r83', b'varchar(100)', 'YES', bytearray(b''), None, '')\n",
            "('r84', b'varchar(100)', 'YES', bytearray(b''), None, '')\n",
            "('r85', b'varchar(100)', 'YES', bytearray(b''), None, '')\n",
            "('r86', b'varchar(100)', 'YES', bytearray(b''), None, '')\n",
            "('r87', b'varchar(100)', 'YES', bytearray(b''), None, '')\n",
            "('r88', b'varchar(100)', 'YES', bytearray(b''), None, '')\n",
            "('r89', b'varchar(100)', 'YES', bytearray(b''), None, '')\n",
            "('r90', b'varchar(100)', 'YES', bytearray(b''), None, '')\n",
            "('r91', b'varchar(100)', 'YES', bytearray(b''), None, '')\n",
            "('r92', b'varchar(100)', 'YES', bytearray(b''), None, '')\n",
            "('r93', b'varchar(100)', 'YES', bytearray(b''), None, '')\n",
            "('r94', b'varchar(100)', 'YES', bytearray(b''), None, '')\n",
            "('r95', b'varchar(100)', 'YES', bytearray(b''), None, '')\n",
            "('r96', b'varchar(100)', 'YES', bytearray(b''), None, '')\n"
          ]
        }
      ],
      "source": [
        "#Muestra resutados para ver que tan bien está la tabla\n",
        "Cursor.execute(\"desc db1\")\n",
        "resultado = Cursor.fetchall()\n",
        "for i in resultado:\n",
        "  print(i)"
      ]
    },
    {
      "attachments": {},
      "cell_type": "markdown",
      "metadata": {
        "id": "LfVAEMaAIjYu"
      },
      "source": [
        "Ingresar los datos de .csv a Rds"
      ]
    },
    {
      "cell_type": "code",
      "execution_count": null,
      "metadata": {
        "id": "Yjjkp0SiIpVC"
      },
      "outputs": [],
      "source": [
        "for i,row in datos.iterrows():\n",
        "            #here %S means string values \n",
        "            sql = \"INSERT INTO TEST1.db1 VALUES (%s,%s,%s,%s,%s,%s,%s,%s,%s,%s,%s,%s,%s,%s,%s,%s,%s,%s,%s,%s,%s,%s,%s,%s,%s,%s,%s,%s,%s,%s,%s,%s,%s,%s,%s,%s,%s,%s,%s,%s,%s,%s,%s,%s,%s,%s,%s,%s,%s,%s,%s,%s,%s,%s,%s,%s,%s,%s,%s,%s,%s,%s,%s,%s,%s,%s,%s,%s,%s,%s,%s,%s,%s,%s,%s,%s,%s,%s,%s,%s,%s,%s,%s,%s,%s,%s,%s,%s,%s,%s,%s,%s,%s,%s,%s,%s,%s,%s,%s,%s,%s)\"\n",
        "            Cursor.execute(sql, tuple(row))\n",
        "            \n",
        "DataBase.commit()"
      ]
    },
    {
      "attachments": {},
      "cell_type": "markdown",
      "metadata": {
        "id": "5GR_Cg6m2_58"
      },
      "source": [
        "### Querys "
      ]
    },
    {
      "cell_type": "code",
      "execution_count": 14,
      "metadata": {
        "id": "qbF0GdBLTYJE"
      },
      "outputs": [],
      "source": [
        "query = \"select * from TEST1.db1 LIMIT 5\"\n",
        "Cursor.execute(query)\n",
        "res =Cursor.fetchall()\n"
      ]
    },
    {
      "cell_type": "code",
      "execution_count": 41,
      "metadata": {
        "colab": {
          "base_uri": "https://localhost:8080/"
        },
        "id": "bu6V1Fl0M9nZ",
        "outputId": "c5da5fa2-b0d3-49ff-e28e-51b5abd6217a"
      },
      "outputs": [
        {
          "name": "stdout",
          "output_type": "stream",
          "text": [
            "ABC 0 2 11 2013 58.0 75.0 65.0 0.08 67.0 69.0 0.07 73.0 68.0 0.06 77.0 69.0 91.0 64.0 74.0 74.0 74.0 67.0 61.0 89.0 58.0 75.0 57.0 108.0 85.0 89.0 183.0 272.0 311.0 0.37 498.0 274.0 276.0 0.23 187.0 136.0 79.0 42.0 91.0 148.0 819.0 798.0 802.0 738.0 508.0 253.0 84.0 68.0 65.0 611.0 162.0 167.0 183.0 0.73 711.0 695.0 601.0 439.0 211.0 93.0 162.0 0.4 518.0 484.0 0.58 795.0 494.0 616.0 672.0 611.0 345.0 415.0 675.0 612.0 353.0 445.0 409.0 0.36 356.0 332.0 344.0 321.0 328.0 407.0 482.0 0.46 338.0 369.0 318.0 322.0 345.0 298.0 316.0 299.0 341.0 304.0 \n",
            "ABC 0 2 11 2013 58.0 75.0 65.0 0.08 67.0 69.0 0.07 73.0 68.0 0.06 77.0 69.0 91.0 64.0 74.0 74.0 74.0 67.0 61.0 89.0 58.0 75.0 57.0 108.0 85.0 89.0 183.0 272.0 311.0 0.37 498.0 274.0 276.0 0.23 187.0 136.0 79.0 42.0 91.0 148.0 819.0 798.0 802.0 738.0 508.0 253.0 84.0 68.0 65.0 611.0 162.0 167.0 183.0 0.73 711.0 695.0 601.0 439.0 211.0 93.0 162.0 0.4 518.0 484.0 0.58 795.0 494.0 616.0 672.0 611.0 345.0 415.0 675.0 612.0 353.0 445.0 409.0 0.36 356.0 332.0 344.0 321.0 328.0 407.0 482.0 0.46 338.0 369.0 318.0 322.0 345.0 298.0 316.0 299.0 341.0 304.0 \n",
            "ABC 0 2 11 2013 58.0 75.0 65.0 0.08 67.0 69.0 0.07 73.0 68.0 0.06 77.0 69.0 91.0 64.0 74.0 74.0 74.0 67.0 61.0 89.0 58.0 75.0 57.0 108.0 85.0 89.0 183.0 272.0 311.0 0.37 498.0 274.0 276.0 0.23 187.0 136.0 79.0 42.0 91.0 148.0 819.0 798.0 802.0 738.0 508.0 253.0 84.0 68.0 65.0 611.0 162.0 167.0 183.0 0.73 711.0 695.0 601.0 439.0 211.0 93.0 162.0 0.4 518.0 484.0 0.58 795.0 494.0 616.0 672.0 611.0 345.0 415.0 675.0 612.0 353.0 445.0 409.0 0.36 356.0 332.0 344.0 321.0 328.0 407.0 482.0 0.46 338.0 369.0 318.0 322.0 345.0 298.0 316.0 299.0 341.0 304.0 \n",
            "ABC 0 2 11 2013 58.0 75.0 65.0 0.08 67.0 69.0 0.07 73.0 68.0 0.06 77.0 69.0 91.0 64.0 74.0 74.0 74.0 67.0 61.0 89.0 58.0 75.0 57.0 108.0 85.0 89.0 183.0 272.0 311.0 0.37 498.0 274.0 276.0 0.23 187.0 136.0 79.0 42.0 91.0 148.0 819.0 798.0 802.0 738.0 508.0 253.0 84.0 68.0 65.0 611.0 162.0 167.0 183.0 0.73 711.0 695.0 601.0 439.0 211.0 93.0 162.0 0.4 518.0 484.0 0.58 795.0 494.0 616.0 672.0 611.0 345.0 415.0 675.0 612.0 353.0 445.0 409.0 0.36 356.0 332.0 344.0 321.0 328.0 407.0 482.0 0.46 338.0 369.0 318.0 322.0 345.0 298.0 316.0 299.0 341.0 304.0 \n",
            "ABC 0 2 11 2013 58.0 75.0 65.0 0.08 67.0 69.0 0.07 73.0 68.0 0.06 77.0 69.0 91.0 64.0 74.0 74.0 74.0 67.0 61.0 89.0 58.0 75.0 57.0 108.0 85.0 89.0 183.0 272.0 311.0 0.37 498.0 274.0 276.0 0.23 187.0 136.0 79.0 42.0 91.0 148.0 819.0 798.0 802.0 738.0 508.0 253.0 84.0 68.0 65.0 611.0 162.0 167.0 183.0 0.73 711.0 695.0 601.0 439.0 211.0 93.0 162.0 0.4 518.0 484.0 0.58 795.0 494.0 616.0 672.0 611.0 345.0 415.0 675.0 612.0 353.0 445.0 409.0 0.36 356.0 332.0 344.0 321.0 328.0 407.0 482.0 0.46 338.0 369.0 318.0 322.0 345.0 298.0 316.0 299.0 341.0 304.0 \n"
          ]
        }
      ],
      "source": [
        "for row in res:\n",
        "        for col in row:\n",
        "            print(col,end=' ')\n",
        "        print()"
      ]
    }
  ],
  "metadata": {
    "colab": {
      "provenance": []
    },
    "kernelspec": {
      "display_name": "Python 3",
      "name": "python3"
    },
    "language_info": {
      "codemirror_mode": {
        "name": "ipython",
        "version": 3
      },
      "file_extension": ".py",
      "mimetype": "text/x-python",
      "name": "python",
      "nbconvert_exporter": "python",
      "pygments_lexer": "ipython3",
      "version": "3.10.5"
    }
  },
  "nbformat": 4,
  "nbformat_minor": 0
}
