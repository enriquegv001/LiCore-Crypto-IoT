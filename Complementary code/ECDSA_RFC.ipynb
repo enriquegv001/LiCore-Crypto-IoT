{
 "cells": [
  {
   "cell_type": "code",
   "execution_count": 109,
   "metadata": {
    "colab": {
     "base_uri": "https://localhost:8080/"
    },
    "id": "uV5MMYfa3cNT",
    "outputId": "264e8a73-8fbc-4fd6-8d17-5e17038b0993"
   },
   "outputs": [
    {
     "name": "stdout",
     "output_type": "stream",
     "text": [
      "Defaulting to user installation because normal site-packages is not writeable\n",
      "Requirement already satisfied: tinyec in c:\\users\\enrique\\appdata\\roaming\\python\\python39\\site-packages (0.4.0)\n"
     ]
    }
   ],
   "source": [
    "!pip install tinyec"
   ]
  },
  {
   "cell_type": "code",
   "execution_count": 110,
   "metadata": {
    "colab": {
     "base_uri": "https://localhost:8080/"
    },
    "id": "gvljrnEz3fGt",
    "outputId": "33bf78fa-d61f-4151-e5f3-cc5310e902e6"
   },
   "outputs": [
    {
     "name": "stdout",
     "output_type": "stream",
     "text": [
      "Defaulting to user installation because normal site-packages is not writeable\n",
      "Requirement already satisfied: pycryptodome in c:\\users\\enrique\\appdata\\roaming\\python\\python39\\site-packages (3.18.0)\n"
     ]
    }
   ],
   "source": [
    "!pip install pycryptodome"
   ]
  },
  {
   "cell_type": "code",
   "execution_count": 111,
   "metadata": {
    "id": "qRkBxc1lNUik"
   },
   "outputs": [],
   "source": [
    "import pandas as pd\n",
    "import pickle\n",
    "# Descarga de librerías para la generación de llaves\n",
    "from tinyec import registry\n",
    "import secrets\n",
    "import numpy as np\n",
    "import hashlib"
   ]
  },
  {
   "cell_type": "code",
   "execution_count": 112,
   "metadata": {
    "colab": {
     "base_uri": "https://localhost:8080/",
     "height": 289
    },
    "id": "Bmcp9YvM3oSb",
    "outputId": "780f8942-4da7-4859-935e-94a58af07b33"
   },
   "outputs": [
    {
     "data": {
      "text/html": [
       "<div>\n",
       "<style scoped>\n",
       "    .dataframe tbody tr th:only-of-type {\n",
       "        vertical-align: middle;\n",
       "    }\n",
       "\n",
       "    .dataframe tbody tr th {\n",
       "        vertical-align: top;\n",
       "    }\n",
       "\n",
       "    .dataframe thead th {\n",
       "        text-align: right;\n",
       "    }\n",
       "</style>\n",
       "<table border=\"1\" class=\"dataframe\">\n",
       "  <thead>\n",
       "    <tr style=\"text-align: right;\">\n",
       "      <th></th>\n",
       "      <th>ID</th>\n",
       "      <th>Consumo (0) / Producción (1)</th>\n",
       "      <th>Dia</th>\n",
       "      <th>Mes</th>\n",
       "      <th>Año</th>\n",
       "      <th>1</th>\n",
       "      <th>2</th>\n",
       "      <th>3</th>\n",
       "      <th>4</th>\n",
       "      <th>5</th>\n",
       "      <th>...</th>\n",
       "      <th>87</th>\n",
       "      <th>88</th>\n",
       "      <th>89</th>\n",
       "      <th>90</th>\n",
       "      <th>91</th>\n",
       "      <th>92</th>\n",
       "      <th>93</th>\n",
       "      <th>94</th>\n",
       "      <th>95</th>\n",
       "      <th>96</th>\n",
       "    </tr>\n",
       "  </thead>\n",
       "  <tbody>\n",
       "    <tr>\n",
       "      <th>0</th>\n",
       "      <td>ABC</td>\n",
       "      <td>0</td>\n",
       "      <td>2</td>\n",
       "      <td>11</td>\n",
       "      <td>2013</td>\n",
       "      <td>58.00</td>\n",
       "      <td>75.0</td>\n",
       "      <td>65.0</td>\n",
       "      <td>0.08</td>\n",
       "      <td>67.0</td>\n",
       "      <td>...</td>\n",
       "      <td>338.0</td>\n",
       "      <td>369.0</td>\n",
       "      <td>318.00</td>\n",
       "      <td>322.0</td>\n",
       "      <td>345.0</td>\n",
       "      <td>298.00</td>\n",
       "      <td>316.00</td>\n",
       "      <td>299.0</td>\n",
       "      <td>341.00</td>\n",
       "      <td>304.0</td>\n",
       "    </tr>\n",
       "    <tr>\n",
       "      <th>1</th>\n",
       "      <td>ABC</td>\n",
       "      <td>0</td>\n",
       "      <td>3</td>\n",
       "      <td>11</td>\n",
       "      <td>2013</td>\n",
       "      <td>0.16</td>\n",
       "      <td>0.1</td>\n",
       "      <td>68.0</td>\n",
       "      <td>69.00</td>\n",
       "      <td>75.0</td>\n",
       "      <td>...</td>\n",
       "      <td>67.0</td>\n",
       "      <td>74.0</td>\n",
       "      <td>61.00</td>\n",
       "      <td>84.0</td>\n",
       "      <td>74.0</td>\n",
       "      <td>67.00</td>\n",
       "      <td>77.00</td>\n",
       "      <td>91.0</td>\n",
       "      <td>0.07</td>\n",
       "      <td>61.0</td>\n",
       "    </tr>\n",
       "    <tr>\n",
       "      <th>2</th>\n",
       "      <td>ABC</td>\n",
       "      <td>0</td>\n",
       "      <td>4</td>\n",
       "      <td>11</td>\n",
       "      <td>2013</td>\n",
       "      <td>0.08</td>\n",
       "      <td>66.0</td>\n",
       "      <td>77.0</td>\n",
       "      <td>64.00</td>\n",
       "      <td>84.0</td>\n",
       "      <td>...</td>\n",
       "      <td>114.0</td>\n",
       "      <td>106.0</td>\n",
       "      <td>128.00</td>\n",
       "      <td>511.0</td>\n",
       "      <td>74.0</td>\n",
       "      <td>84.00</td>\n",
       "      <td>59.00</td>\n",
       "      <td>69.0</td>\n",
       "      <td>69.00</td>\n",
       "      <td>71.0</td>\n",
       "    </tr>\n",
       "    <tr>\n",
       "      <th>3</th>\n",
       "      <td>ABC</td>\n",
       "      <td>0</td>\n",
       "      <td>5</td>\n",
       "      <td>11</td>\n",
       "      <td>2013</td>\n",
       "      <td>68.00</td>\n",
       "      <td>58.0</td>\n",
       "      <td>95.0</td>\n",
       "      <td>81.00</td>\n",
       "      <td>74.0</td>\n",
       "      <td>...</td>\n",
       "      <td>167.0</td>\n",
       "      <td>202.0</td>\n",
       "      <td>0.53</td>\n",
       "      <td>226.0</td>\n",
       "      <td>256.0</td>\n",
       "      <td>315.00</td>\n",
       "      <td>421.00</td>\n",
       "      <td>66.0</td>\n",
       "      <td>0.09</td>\n",
       "      <td>64.0</td>\n",
       "    </tr>\n",
       "    <tr>\n",
       "      <th>4</th>\n",
       "      <td>ABC</td>\n",
       "      <td>0</td>\n",
       "      <td>6</td>\n",
       "      <td>11</td>\n",
       "      <td>2013</td>\n",
       "      <td>77.00</td>\n",
       "      <td>61.0</td>\n",
       "      <td>97.0</td>\n",
       "      <td>65.00</td>\n",
       "      <td>78.0</td>\n",
       "      <td>...</td>\n",
       "      <td>117.0</td>\n",
       "      <td>345.0</td>\n",
       "      <td>351.00</td>\n",
       "      <td>69.0</td>\n",
       "      <td>57.0</td>\n",
       "      <td>0.07</td>\n",
       "      <td>0.07</td>\n",
       "      <td>72.0</td>\n",
       "      <td>56.00</td>\n",
       "      <td>78.0</td>\n",
       "    </tr>\n",
       "  </tbody>\n",
       "</table>\n",
       "<p>5 rows × 101 columns</p>\n",
       "</div>"
      ],
      "text/plain": [
       "    ID  Consumo (0) / Producción (1)  Dia  Mes    Año      1     2     3  \\\n",
       "0  ABC                             0    2    11  2013  58.00  75.0  65.0   \n",
       "1  ABC                             0    3    11  2013   0.16   0.1  68.0   \n",
       "2  ABC                             0    4    11  2013   0.08  66.0  77.0   \n",
       "3  ABC                             0    5    11  2013  68.00  58.0  95.0   \n",
       "4  ABC                             0    6    11  2013  77.00  61.0  97.0   \n",
       "\n",
       "       4     5  ...     87     88      89     90     91      92      93  \\\n",
       "0   0.08  67.0  ...  338.0  369.0  318.00  322.0  345.0  298.00  316.00   \n",
       "1  69.00  75.0  ...   67.0   74.0   61.00   84.0   74.0   67.00   77.00   \n",
       "2  64.00  84.0  ...  114.0  106.0  128.00  511.0   74.0   84.00   59.00   \n",
       "3  81.00  74.0  ...  167.0  202.0    0.53  226.0  256.0  315.00  421.00   \n",
       "4  65.00  78.0  ...  117.0  345.0  351.00   69.0   57.0    0.07    0.07   \n",
       "\n",
       "      94      95     96  \n",
       "0  299.0  341.00  304.0  \n",
       "1   91.0    0.07   61.0  \n",
       "2   69.0   69.00   71.0  \n",
       "3   66.0    0.09   64.0  \n",
       "4   72.0   56.00   78.0  \n",
       "\n",
       "[5 rows x 101 columns]"
      ]
     },
     "execution_count": 112,
     "metadata": {},
     "output_type": "execute_result"
    }
   ],
   "source": [
    "dataset = pd.read_csv(r'Prosumer_ABC.csv', header= 0, sep = \";\" )\n",
    "dataset.head(5)"
   ]
  },
  {
   "cell_type": "markdown",
   "metadata": {},
   "source": [
    "### ECDSA actual"
   ]
  },
  {
   "cell_type": "code",
   "execution_count": 113,
   "metadata": {},
   "outputs": [],
   "source": [
    "# algritmo euclideano extendido\n",
    "# a - grupo\n",
    "# b - elemento\n",
    "def alg_euc_ext(a,b):\n",
    "  if b == 0:\n",
    "    d = a; x = 1; y =0\n",
    "    return d,x, y\n",
    "\n",
    "  x1 = 0; x2 = 1; y1 = 1; y2 = 0\n",
    "\n",
    "  while b != 0:\n",
    "    q = int(a/b)\n",
    "    r = a - q*b\n",
    "    x = x2 - q*x1\n",
    "    y = y2 - q*y1\n",
    "    a = b\n",
    "    b = r\n",
    "    x2 =x1\n",
    "    x1 = x\n",
    "    y2 = y1\n",
    "    y1 = y\n",
    "\n",
    "  d = a; x = x2; y = y2\n",
    "  # y es inverso de a\n",
    "  return d,x,y"
   ]
  },
  {
   "cell_type": "code",
   "execution_count": 126,
   "metadata": {},
   "outputs": [],
   "source": [
    "#Modificación a código:\n",
    "#https://pycoin.readthedocs.io/en/latest/_modules/pycoin/ecdsa/rfc6979.html#:~:text=%5Bdocs%5D%20def%20deterministic_generate_k%28generator_order%2C%20secret_exponent%2C%20val%2C%20hash_f%3Dhashlib.sha256%29%3A%20%22%22%22%20%3Aparam,%2B%20b%27x00%27%2C%20hash_f%29.digest%28%29%20v%20%3D%20hmac.new%28k%2C%20v%2C%20hash_f%29.digest%28%29\n",
    "import hashlib\n",
    "import hmac\n",
    "\n",
    "if hasattr(1, \"bit_length\"):\n",
    "    def bit_length(v):\n",
    "        return v.bit_length()\n",
    "else:\n",
    "    def bit_length(self):\n",
    "        s = bin(self)  # binary representation:  bin(-37) --> '-0b100101'\n",
    "        s = s.lstrip('-0b')  # remove leading zeros and minus sign\n",
    "        return len(s)  # len('100101') --> 6\n",
    "\n",
    "def deterministic_k(generator_order, secret_exponent, val , hash_f):\n",
    "    n = generator_order\n",
    "    bln = bit_length(n)\n",
    "    order_size = (bln + 7) // 8\n",
    "    hash_size = hash_f().digest_size\n",
    "    v = b'\\x01' * hash_size\n",
    "    k = b'\\x00' * hash_size\n",
    "    priv_key = int.to_bytes(secret_exponent, byteorder = 'big', length=order_size)\n",
    "    #h1 = int(hashlib.sha256(m.encode()).hexdigest(), 16)\n",
    "    h1 = int(hashlib.sha256(m).hexdigest(), 16)\n",
    "    h1 = h1.to_bytes(32, 'big')\n",
    "    k = hmac.new(k, v + b'\\x00' + priv_key + h1, hash_f).digest()\n",
    "    v = hmac.new(k, v, hash_f).digest()\n",
    "    k = hmac.new(k, v + b'\\x01' + priv_key + h1, hash_f).digest()\n",
    "    v = hmac.new(k, v, hash_f).digest()\n",
    "\n",
    "    while 1:\n",
    "        t = bytearray()\n",
    "        while len(t) < order_size:\n",
    "            v = hmac.new(k, v, hash_f).digest()\n",
    "            t.extend(v)\n",
    "        k1 = int.from_bytes(bytes(t), 'big')\n",
    "        if k1 >= 1 and k1 < n:\n",
    "            return k1"
   ]
  },
  {
   "cell_type": "code",
   "execution_count": 118,
   "metadata": {
    "id": "NkkgSL9w4qVB"
   },
   "outputs": [],
   "source": [
    "def firmado_dsa(curve, m):\n",
    "  # Generación de clave\n",
    "  q = curve.field.n\n",
    "  P = curve.g # element G of prime order q is chosen in E(GF(p))\n",
    "  x = secrets.randbelow(q) #privkey\n",
    "  Q = x * P # pubkey\n",
    "  #h = hashlib.sha1(m)\n",
    "  h = int(hashlib.sha512(m).hexdigest(),16)\n",
    "  #Firma digital\n",
    "  r = 0\n",
    "  s = 0\n",
    "\n",
    "  while r == 0 or s == 0:\n",
    "    #k = secrets.randbelow(q)\n",
    "    k = deterministic_k(q, x, m , hashlib.sha256)\n",
    "    kP = k * P\n",
    "    r = kP.x % q\n",
    "    l = alg_euc_ext(q, k)[2] # inverso de k\n",
    "    s = (l*(h + x*r))%q\n",
    "  return r, s, Q, h\n",
    "\n",
    "def verificado_dsa(curve, r, s, Q, h):\n",
    "  #Generaicón de clave\n",
    "  q = curve.field.n\n",
    "  P = curve.g\n",
    "\n",
    "  #Verificación de la firma\n",
    "  if 1<=r and 1<=s and r<=(q-1) and s<=(q-1):\n",
    "    w = alg_euc_ext(curve.field.n, s)[2] # invserso s\n",
    "    u1 = h * w % q\n",
    "    u2 = r * w % q\n",
    "    v = (u1*P + u2*Q).x%q\n",
    "    if v == r:\n",
    "      print('Se acepta la firma')\n",
    "    else:\n",
    "      print('Se rechaza la firma')\n",
    "\n",
    "  else:\n",
    "    print('Error: no cumple con 1<=r, s<=q-1')"
   ]
  },
  {
   "cell_type": "markdown",
   "metadata": {
    "id": "fuWwp_ciqURm"
   },
   "source": [
    "### Vector de prueba con curva"
   ]
  },
  {
   "cell_type": "code",
   "execution_count": 119,
   "metadata": {
    "colab": {
     "base_uri": "https://localhost:8080/"
    },
    "id": "V7CpB7as5Yke",
    "outputId": "671a50ed-0c37-466c-ca58-574204d63a26"
   },
   "outputs": [
    {
     "name": "stdout",
     "output_type": "stream",
     "text": [
      "Se acepta la firma\n"
     ]
    }
   ],
   "source": [
    "curve = registry.get_curve('brainpoolP256r1')\n",
    "# Se convierte la base de datos a bytes para su manejo\n",
    "m = pickle.dumps(dataset, protocol=4)\n",
    "\n",
    "r,s,Q,h= firmado_dsa(curve, m)\n",
    "\n",
    "verificado_dsa(curve, r, s, Q, h)"
   ]
  },
  {
   "cell_type": "markdown",
   "metadata": {
    "id": "PevY01K5qbXx"
   },
   "source": [
    "### ECDSA actual con todo el dataframe"
   ]
  },
  {
   "cell_type": "code",
   "execution_count": 120,
   "metadata": {
    "id": "NDxKq-udlUx2"
   },
   "outputs": [],
   "source": [
    "# Firmado y lista con la curva, r, s y Q\n",
    "def firmado_df(df):\n",
    "  a = []\n",
    "  for i in df.index:\n",
    "    curve = registry.get_curve('brainpoolP256r1')\n",
    "    m = pickle.dumps(df.iloc[i].to_numpy(), protocol=4)\n",
    "    r,s,Q,h = firmado_dsa(curve, m)\n",
    "    a.append([curve, r,s,Q,h])\n",
    "  return a"
   ]
  },
  {
   "cell_type": "code",
   "execution_count": 121,
   "metadata": {
    "id": "y8-O9zBamQM5"
   },
   "outputs": [],
   "source": [
    "# Verificación firma\n",
    "def ver_df(a):\n",
    "  for i in range(len(a)):\n",
    "    verificado_dsa(a[i][0],a[i][1],a[i][2],a[i][3],a[i][4])"
   ]
  },
  {
   "cell_type": "code",
   "execution_count": 122,
   "metadata": {
    "colab": {
     "base_uri": "https://localhost:8080/"
    },
    "id": "D8UR4a9dojO7",
    "outputId": "67367f3a-44bc-4c28-fee8-8ac2b45230bb"
   },
   "outputs": [
    {
     "name": "stdout",
     "output_type": "stream",
     "text": [
      "Se acepta la firma\n",
      "Se acepta la firma\n",
      "Se acepta la firma\n",
      "Se acepta la firma\n",
      "Se acepta la firma\n"
     ]
    }
   ],
   "source": [
    "ver_df(firmado_df(dataset.iloc[0:5]))"
   ]
  },
  {
   "cell_type": "markdown",
   "metadata": {},
   "source": [
    "### Comprobación RFC (ECDSA, 256 Bits (Prime Field))"
   ]
  },
  {
   "cell_type": "code",
   "execution_count": 102,
   "metadata": {},
   "outputs": [],
   "source": [
    "#Modificación a código:\n",
    "#https://pycoin.readthedocs.io/en/latest/_modules/pycoin/ecdsa/rfc6979.html#:~:text=%5Bdocs%5D%20def%20deterministic_generate_k%28generator_order%2C%20secret_exponent%2C%20val%2C%20hash_f%3Dhashlib.sha256%29%3A%20%22%22%22%20%3Aparam,%2B%20b%27x00%27%2C%20hash_f%29.digest%28%29%20v%20%3D%20hmac.new%28k%2C%20v%2C%20hash_f%29.digest%28%29\n",
    "import hashlib\n",
    "import hmac\n",
    "\n",
    "if hasattr(1, \"bit_length\"):\n",
    "    def bit_length(v):\n",
    "        return v.bit_length()\n",
    "else:\n",
    "    def bit_length(self):\n",
    "        s = bin(self)  # binary representation:  bin(-37) --> '-0b100101'\n",
    "        s = s.lstrip('-0b')  # remove leading zeros and minus sign\n",
    "        return len(s)  # len('100101') --> 6\n",
    "\n",
    "def deterministic_k(generator_order, secret_exponent, val , hash_f):\n",
    "    n = generator_order\n",
    "    bln = bit_length(n)\n",
    "    order_size = (bln + 7) // 8\n",
    "    hash_size = hash_f().digest_size\n",
    "    v = b'\\x01' * hash_size\n",
    "    k = b'\\x00' * hash_size\n",
    "    priv_key = int.to_bytes(secret_exponent, byteorder = 'big', length=order_size)\n",
    "    h1 = int(hashlib.sha256(m.encode()).hexdigest(), 16)\n",
    "    h1 = h1.to_bytes(32, 'big')\n",
    "    k = hmac.new(k, v + b'\\x00' + priv_key + h1, hash_f).digest()\n",
    "    v = hmac.new(k, v, hash_f).digest()\n",
    "    k = hmac.new(k, v + b'\\x01' + priv_key + h1, hash_f).digest()\n",
    "    v = hmac.new(k, v, hash_f).digest()\n",
    "\n",
    "    while 1:\n",
    "        t = bytearray()\n",
    "        while len(t) < order_size:\n",
    "            v = hmac.new(k, v, hash_f).digest()\n",
    "            t.extend(v)\n",
    "        k1 = int.from_bytes(bytes(t), 'big')\n",
    "        if k1 >= 1 and k1 < n:\n",
    "            return k1"
   ]
  },
  {
   "cell_type": "code",
   "execution_count": 128,
   "metadata": {},
   "outputs": [],
   "source": [
    "q = int('0xFFFFFFFF00000000FFFFFFFFFFFFFFFFBCE6FAADA7179E84F3B9CAC2FC632551',0)\n",
    "x = int('0xC9AFA9D845BA75166B5C215767B1D6934E50C3DB36E89B127B8A622B120F6721',0) # priv key\n",
    "Ux = int('0x60FED4BA255A9D31C961EB74C6356D68C049B8923B61FA6CE669622E60F29FB6',0)\n",
    "Uy = int('0x7903FE1008B8BC99A41AE9E95628BC64F2F1B20C2D7E9F5177A3C294D4462299',0)\n",
    "m = \"sample\".encode()\n",
    "curve = registry.get_curve('brainpoolP256r1')\n",
    "#hash = lambda x: hashlib.sha1(x.encode())\n",
    "k = '0xA6E3C57DD01ABE90086538398355DD4C3B17AA873382B0F24D6129493D8AAD60'\n",
    "r = '0xEFD48B2AACB6A8FD1140DD9CD45E81D69D2C877B56AAF991C34D0EA84EAF3716'\n",
    "s = '0xF7CB1C942D657C41D436C7A1B6E29F65F3E900DBB9AFF4064DC4AB2F843ACDA8'"
   ]
  },
  {
   "cell_type": "code",
   "execution_count": 141,
   "metadata": {},
   "outputs": [
    {
     "name": "stdout",
     "output_type": "stream",
     "text": [
      "k =  75486370184466523516702714224272210659255809472406410223340475427961162083680\n",
      "mismos valores\n"
     ]
    }
   ],
   "source": [
    "k_calc = deterministic_k(q, x, m , hashlib.sha256)\n",
    "print('k = ', k_calc)\n",
    "if int(k, 0) == k_calc:\n",
    "    print('mismos valores')"
   ]
  },
  {
   "cell_type": "code",
   "execution_count": 142,
   "metadata": {},
   "outputs": [
    {
     "ename": "TypeError",
     "evalue": "firmado_dsa() takes 2 positional arguments but 7 were given",
     "output_type": "error",
     "traceback": [
      "\u001b[1;31m---------------------------------------------------------------------------\u001b[0m",
      "\u001b[1;31mTypeError\u001b[0m                                 Traceback (most recent call last)",
      "\u001b[1;32m~\\AppData\\Local\\Temp\\ipykernel_16996\\265923755.py\u001b[0m in \u001b[0;36m<module>\u001b[1;34m\u001b[0m\n\u001b[1;32m----> 1\u001b[1;33m \u001b[0mr\u001b[0m\u001b[1;33m,\u001b[0m \u001b[0ms\u001b[0m\u001b[1;33m,\u001b[0m \u001b[0mQ\u001b[0m\u001b[1;33m,\u001b[0m \u001b[0mh\u001b[0m \u001b[1;33m=\u001b[0m \u001b[0mfirmado_dsa\u001b[0m\u001b[1;33m(\u001b[0m\u001b[0mcurve\u001b[0m\u001b[1;33m,\u001b[0m \u001b[0mm\u001b[0m \u001b[1;33m,\u001b[0m \u001b[0mq\u001b[0m\u001b[1;33m,\u001b[0m \u001b[0mx\u001b[0m\u001b[1;33m,\u001b[0m \u001b[0mUx\u001b[0m\u001b[1;33m,\u001b[0m \u001b[0mUy\u001b[0m\u001b[1;33m,\u001b[0m \u001b[0mhash\u001b[0m\u001b[1;33m)\u001b[0m\u001b[1;33m\u001b[0m\u001b[1;33m\u001b[0m\u001b[0m\n\u001b[0m\u001b[0;32m      2\u001b[0m \u001b[0mprint\u001b[0m\u001b[1;33m(\u001b[0m\u001b[1;34m'r:'\u001b[0m\u001b[1;33m,\u001b[0m \u001b[0mhex\u001b[0m\u001b[1;33m(\u001b[0m\u001b[0mr\u001b[0m\u001b[1;33m)\u001b[0m\u001b[1;33m,\u001b[0m \u001b[1;34m'\\n'\u001b[0m\u001b[1;33m,\u001b[0m\u001b[1;34m's:'\u001b[0m\u001b[1;33m,\u001b[0m \u001b[0mhex\u001b[0m\u001b[1;33m(\u001b[0m\u001b[0ms\u001b[0m\u001b[1;33m)\u001b[0m\u001b[1;33m)\u001b[0m\u001b[1;33m\u001b[0m\u001b[1;33m\u001b[0m\u001b[0m\n",
      "\u001b[1;31mTypeError\u001b[0m: firmado_dsa() takes 2 positional arguments but 7 were given"
     ]
    }
   ],
   "source": [
    "r, s, Q, h = firmado_dsa(curve, m , q, x, Ux, Uy, hash)\n",
    "print('r:', hex(r), '\\n','s:', hex(s))"
   ]
  },
  {
   "cell_type": "markdown",
   "metadata": {},
   "source": [
    "Experimentos"
   ]
  },
  {
   "cell_type": "code",
   "execution_count": 43,
   "metadata": {},
   "outputs": [
    {
     "data": {
      "text/plain": [
       "(6213929673247522162827900163420077025661042955919036052390098433877096548365, 15559205344702045751121271793715075703169183735854098058101708391254918044411) on \"brainpoolP256r1\" => y^2 = x^3 + 56698187605326110043627228396178346077120614539475214109386828188763884139993x + 17577232497321838841075697789794520262950426058923084567046852300633325438902 (mod 76884956397045344220809746629001649093037950200943055203735601445031516197751)"
      ]
     },
     "execution_count": 43,
     "metadata": {},
     "output_type": "execute_result"
    }
   ],
   "source": [
    "#pruebas de bytes a int\n",
    "curve = registry.get_curve('brainpoolP256r1')\n",
    "#x = secrets.randbelow(curve.field.n)\n",
    "x = int(\"0xC9AFA9D845BA75166B5C215767B1D6934E50C3DB36E89B127B8A622B120F6721\", 0)\n",
    "P = curve.g\n",
    "x * P\n"
   ]
  }
 ],
 "metadata": {
  "colab": {
   "provenance": []
  },
  "kernelspec": {
   "display_name": "Python 3 (ipykernel)",
   "language": "python",
   "name": "python3"
  },
  "language_info": {
   "codemirror_mode": {
    "name": "ipython",
    "version": 3
   },
   "file_extension": ".py",
   "mimetype": "text/x-python",
   "name": "python",
   "nbconvert_exporter": "python",
   "pygments_lexer": "ipython3",
   "version": "3.9.13"
  }
 },
 "nbformat": 4,
 "nbformat_minor": 1
}
