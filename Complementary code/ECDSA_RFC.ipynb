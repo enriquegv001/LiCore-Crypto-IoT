{
  "cells": [
    {
      "cell_type": "code",
      "execution_count": 31,
      "metadata": {
        "colab": {
          "base_uri": "https://localhost:8080/"
        },
        "id": "uV5MMYfa3cNT",
        "outputId": "264e8a73-8fbc-4fd6-8d17-5e17038b0993"
      },
      "outputs": [
        {
          "name": "stdout",
          "output_type": "stream",
          "text": [
            "Requirement already satisfied: tinyec in c:\\users\\enrique\\appdata\\local\\programs\\python\\python310\\lib\\site-packages (0.4.0)\n"
          ]
        }
      ],
      "source": [
        "!pip install tinyec"
      ]
    },
    {
      "cell_type": "code",
      "execution_count": 32,
      "metadata": {
        "colab": {
          "base_uri": "https://localhost:8080/"
        },
        "id": "gvljrnEz3fGt",
        "outputId": "33bf78fa-d61f-4151-e5f3-cc5310e902e6"
      },
      "outputs": [
        {
          "name": "stdout",
          "output_type": "stream",
          "text": [
            "Requirement already satisfied: pycryptodome in c:\\users\\enrique\\appdata\\local\\programs\\python\\python310\\lib\\site-packages (3.18.0)\n"
          ]
        }
      ],
      "source": [
        "!pip install pycryptodome"
      ]
    },
    {
      "cell_type": "code",
      "execution_count": 33,
      "metadata": {
        "id": "qRkBxc1lNUik"
      },
      "outputs": [],
      "source": [
        "import pandas as pd\n",
        "import pickle\n",
        "# Descarga de librerías para la generación de llaves\n",
        "from tinyec import registry\n",
        "import secrets"
      ]
    },
    {
      "cell_type": "code",
      "execution_count": 4,
      "metadata": {
        "colab": {
          "base_uri": "https://localhost:8080/"
        },
        "id": "6SZlzsaI3iDW",
        "outputId": "ba652837-7306-420f-9bf4-a4d8b6d72d52"
      },
      "outputs": [
        {
          "ename": "ModuleNotFoundError",
          "evalue": "No module named 'google.colab'",
          "output_type": "error",
          "traceback": [
            "\u001b[1;31m---------------------------------------------------------------------------\u001b[0m",
            "\u001b[1;31mModuleNotFoundError\u001b[0m                       Traceback (most recent call last)",
            "\u001b[1;32mc:\\Users\\Enrique\\OneDrive - Instituto Tecnologico y de Estudios Superiores de Monterrey\\Documents\\Escuela\\FJ23\\Algebra moderna Cripto\\reto\\Reto-Git\\LiCore-Crypto-IoT\\Complementary code\\ECDSA_RFC.ipynb Cell 4\u001b[0m in \u001b[0;36m<cell line: 1>\u001b[1;34m()\u001b[0m\n\u001b[1;32m----> <a href='vscode-notebook-cell:/c%3A/Users/Enrique/OneDrive%20-%20Instituto%20Tecnologico%20y%20de%20Estudios%20Superiores%20de%20Monterrey/Documents/Escuela/FJ23/Algebra%20moderna%20Cripto/reto/Reto-Git/LiCore-Crypto-IoT/Complementary%20code/ECDSA_RFC.ipynb#W3sZmlsZQ%3D%3D?line=0'>1</a>\u001b[0m \u001b[39mfrom\u001b[39;00m \u001b[39mgoogle\u001b[39;00m\u001b[39m.\u001b[39;00m\u001b[39mcolab\u001b[39;00m \u001b[39mimport\u001b[39;00m drive\n\u001b[0;32m      <a href='vscode-notebook-cell:/c%3A/Users/Enrique/OneDrive%20-%20Instituto%20Tecnologico%20y%20de%20Estudios%20Superiores%20de%20Monterrey/Documents/Escuela/FJ23/Algebra%20moderna%20Cripto/reto/Reto-Git/LiCore-Crypto-IoT/Complementary%20code/ECDSA_RFC.ipynb#W3sZmlsZQ%3D%3D?line=1'>2</a>\u001b[0m drive\u001b[39m.\u001b[39mmount(\u001b[39m'\u001b[39m\u001b[39m/content/drive\u001b[39m\u001b[39m'\u001b[39m)\n",
            "\u001b[1;31mModuleNotFoundError\u001b[0m: No module named 'google.colab'"
          ]
        }
      ],
      "source": [
        "#from google.colab import drive\n",
        "#drive.mount('/content/drive')"
      ]
    },
    {
      "cell_type": "code",
      "execution_count": 6,
      "metadata": {
        "colab": {
          "base_uri": "https://localhost:8080/",
          "height": 289
        },
        "id": "Bmcp9YvM3oSb",
        "outputId": "780f8942-4da7-4859-935e-94a58af07b33"
      },
      "outputs": [
        {
          "data": {
            "text/html": [
              "<div>\n",
              "<style scoped>\n",
              "    .dataframe tbody tr th:only-of-type {\n",
              "        vertical-align: middle;\n",
              "    }\n",
              "\n",
              "    .dataframe tbody tr th {\n",
              "        vertical-align: top;\n",
              "    }\n",
              "\n",
              "    .dataframe thead th {\n",
              "        text-align: right;\n",
              "    }\n",
              "</style>\n",
              "<table border=\"1\" class=\"dataframe\">\n",
              "  <thead>\n",
              "    <tr style=\"text-align: right;\">\n",
              "      <th></th>\n",
              "      <th>ID</th>\n",
              "      <th>Consumo (0) / Producción (1)</th>\n",
              "      <th>Dia</th>\n",
              "      <th>Mes</th>\n",
              "      <th>Año</th>\n",
              "      <th>1</th>\n",
              "      <th>2</th>\n",
              "      <th>3</th>\n",
              "      <th>4</th>\n",
              "      <th>5</th>\n",
              "      <th>...</th>\n",
              "      <th>87</th>\n",
              "      <th>88</th>\n",
              "      <th>89</th>\n",
              "      <th>90</th>\n",
              "      <th>91</th>\n",
              "      <th>92</th>\n",
              "      <th>93</th>\n",
              "      <th>94</th>\n",
              "      <th>95</th>\n",
              "      <th>96</th>\n",
              "    </tr>\n",
              "  </thead>\n",
              "  <tbody>\n",
              "    <tr>\n",
              "      <th>0</th>\n",
              "      <td>ABC</td>\n",
              "      <td>0</td>\n",
              "      <td>2</td>\n",
              "      <td>11</td>\n",
              "      <td>2013</td>\n",
              "      <td>58.00</td>\n",
              "      <td>75.0</td>\n",
              "      <td>65.0</td>\n",
              "      <td>0.08</td>\n",
              "      <td>67.0</td>\n",
              "      <td>...</td>\n",
              "      <td>338.0</td>\n",
              "      <td>369.0</td>\n",
              "      <td>318.00</td>\n",
              "      <td>322.0</td>\n",
              "      <td>345.0</td>\n",
              "      <td>298.00</td>\n",
              "      <td>316.00</td>\n",
              "      <td>299.0</td>\n",
              "      <td>341.00</td>\n",
              "      <td>304.0</td>\n",
              "    </tr>\n",
              "    <tr>\n",
              "      <th>1</th>\n",
              "      <td>ABC</td>\n",
              "      <td>0</td>\n",
              "      <td>3</td>\n",
              "      <td>11</td>\n",
              "      <td>2013</td>\n",
              "      <td>0.16</td>\n",
              "      <td>0.1</td>\n",
              "      <td>68.0</td>\n",
              "      <td>69.00</td>\n",
              "      <td>75.0</td>\n",
              "      <td>...</td>\n",
              "      <td>67.0</td>\n",
              "      <td>74.0</td>\n",
              "      <td>61.00</td>\n",
              "      <td>84.0</td>\n",
              "      <td>74.0</td>\n",
              "      <td>67.00</td>\n",
              "      <td>77.00</td>\n",
              "      <td>91.0</td>\n",
              "      <td>0.07</td>\n",
              "      <td>61.0</td>\n",
              "    </tr>\n",
              "    <tr>\n",
              "      <th>2</th>\n",
              "      <td>ABC</td>\n",
              "      <td>0</td>\n",
              "      <td>4</td>\n",
              "      <td>11</td>\n",
              "      <td>2013</td>\n",
              "      <td>0.08</td>\n",
              "      <td>66.0</td>\n",
              "      <td>77.0</td>\n",
              "      <td>64.00</td>\n",
              "      <td>84.0</td>\n",
              "      <td>...</td>\n",
              "      <td>114.0</td>\n",
              "      <td>106.0</td>\n",
              "      <td>128.00</td>\n",
              "      <td>511.0</td>\n",
              "      <td>74.0</td>\n",
              "      <td>84.00</td>\n",
              "      <td>59.00</td>\n",
              "      <td>69.0</td>\n",
              "      <td>69.00</td>\n",
              "      <td>71.0</td>\n",
              "    </tr>\n",
              "    <tr>\n",
              "      <th>3</th>\n",
              "      <td>ABC</td>\n",
              "      <td>0</td>\n",
              "      <td>5</td>\n",
              "      <td>11</td>\n",
              "      <td>2013</td>\n",
              "      <td>68.00</td>\n",
              "      <td>58.0</td>\n",
              "      <td>95.0</td>\n",
              "      <td>81.00</td>\n",
              "      <td>74.0</td>\n",
              "      <td>...</td>\n",
              "      <td>167.0</td>\n",
              "      <td>202.0</td>\n",
              "      <td>0.53</td>\n",
              "      <td>226.0</td>\n",
              "      <td>256.0</td>\n",
              "      <td>315.00</td>\n",
              "      <td>421.00</td>\n",
              "      <td>66.0</td>\n",
              "      <td>0.09</td>\n",
              "      <td>64.0</td>\n",
              "    </tr>\n",
              "    <tr>\n",
              "      <th>4</th>\n",
              "      <td>ABC</td>\n",
              "      <td>0</td>\n",
              "      <td>6</td>\n",
              "      <td>11</td>\n",
              "      <td>2013</td>\n",
              "      <td>77.00</td>\n",
              "      <td>61.0</td>\n",
              "      <td>97.0</td>\n",
              "      <td>65.00</td>\n",
              "      <td>78.0</td>\n",
              "      <td>...</td>\n",
              "      <td>117.0</td>\n",
              "      <td>345.0</td>\n",
              "      <td>351.00</td>\n",
              "      <td>69.0</td>\n",
              "      <td>57.0</td>\n",
              "      <td>0.07</td>\n",
              "      <td>0.07</td>\n",
              "      <td>72.0</td>\n",
              "      <td>56.00</td>\n",
              "      <td>78.0</td>\n",
              "    </tr>\n",
              "  </tbody>\n",
              "</table>\n",
              "<p>5 rows × 101 columns</p>\n",
              "</div>"
            ],
            "text/plain": [
              "    ID  Consumo (0) / Producción (1)  Dia  Mes    Año      1     2     3  \\\n",
              "0  ABC                             0    2    11  2013  58.00  75.0  65.0   \n",
              "1  ABC                             0    3    11  2013   0.16   0.1  68.0   \n",
              "2  ABC                             0    4    11  2013   0.08  66.0  77.0   \n",
              "3  ABC                             0    5    11  2013  68.00  58.0  95.0   \n",
              "4  ABC                             0    6    11  2013  77.00  61.0  97.0   \n",
              "\n",
              "       4     5  ...     87     88      89     90     91      92      93  \\\n",
              "0   0.08  67.0  ...  338.0  369.0  318.00  322.0  345.0  298.00  316.00   \n",
              "1  69.00  75.0  ...   67.0   74.0   61.00   84.0   74.0   67.00   77.00   \n",
              "2  64.00  84.0  ...  114.0  106.0  128.00  511.0   74.0   84.00   59.00   \n",
              "3  81.00  74.0  ...  167.0  202.0    0.53  226.0  256.0  315.00  421.00   \n",
              "4  65.00  78.0  ...  117.0  345.0  351.00   69.0   57.0    0.07    0.07   \n",
              "\n",
              "      94      95     96  \n",
              "0  299.0  341.00  304.0  \n",
              "1   91.0    0.07   61.0  \n",
              "2   69.0   69.00   71.0  \n",
              "3   66.0    0.09   64.0  \n",
              "4   72.0   56.00   78.0  \n",
              "\n",
              "[5 rows x 101 columns]"
            ]
          },
          "execution_count": 6,
          "metadata": {},
          "output_type": "execute_result"
        }
      ],
      "source": [
        "dataset = pd.read_csv(r'C:\\Users\\Enrique\\OneDrive - Instituto Tecnologico y de Estudios Superiores de Monterrey\\Documents\\Escuela\\FJ23\\Algebra moderna Cripto\\reto\\Reto-Git\\LiCore-Crypto-IoT\\Client_server\\Prosumer_ABC.csv', header= 0, sep = \";\" )\n",
        "dataset.head(5)"
      ]
    },
    {
      "cell_type": "code",
      "execution_count": null,
      "metadata": {
        "colab": {
          "base_uri": "https://localhost:8080/"
        },
        "id": "H0m_jsv4oKgk",
        "outputId": "f3d87993-1dbf-4ace-85b9-4fde295b91be"
      },
      "outputs": [
        {
          "data": {
            "text/plain": [
              "ABC    728\n",
              "Name: ID, dtype: int64"
            ]
          },
          "execution_count": 11,
          "metadata": {},
          "output_type": "execute_result"
        }
      ],
      "source": [
        "dataset['ID'].value_counts()"
      ]
    },
    {
      "cell_type": "code",
      "execution_count": null,
      "metadata": {
        "colab": {
          "base_uri": "https://localhost:8080/"
        },
        "id": "b83d2UXMn2qb",
        "outputId": "ec54e121-a0f8-4dd9-fade-da0fec79afec"
      },
      "outputs": [
        {
          "data": {
            "text/plain": [
              "(728, 101)"
            ]
          },
          "execution_count": 7,
          "metadata": {},
          "output_type": "execute_result"
        }
      ],
      "source": [
        "dataset.shape"
      ]
    },
    {
      "cell_type": "code",
      "execution_count": null,
      "metadata": {
        "id": "zOKoyshmK6mC"
      },
      "outputs": [],
      "source": [
        "import numpy as np\n",
        "import hashlib"
      ]
    },
    {
      "cell_type": "code",
      "execution_count": 7,
      "metadata": {
        "id": "NkkgSL9w4qVB"
      },
      "outputs": [],
      "source": [
        "# algritmo euclideano extendido\n",
        "# a - grupo\n",
        "# b - elemento\n",
        "def alg_euc_ext(a,b):\n",
        "  if b == 0:\n",
        "    d = a; x = 1; y =0\n",
        "    return d,x, y\n",
        "\n",
        "  x1 = 0; x2 = 1; y1 = 1; y2 = 0\n",
        "\n",
        "  while b != 0:\n",
        "    q = int(a/b)\n",
        "    r = a - q*b\n",
        "    x = x2 - q*x1\n",
        "    y = y2 - q*y1\n",
        "    a = b\n",
        "    b = r\n",
        "    x2 =x1\n",
        "    x1 = x\n",
        "    y2 = y1\n",
        "    y1 = y\n",
        "\n",
        "  d = a; x = x2; y = y2\n",
        "  # y es inverso de a\n",
        "  return d,x,y\n",
        "\n",
        "def firmado_dsa(curve, m):\n",
        "  # Generación de clave\n",
        "  q = curve.field.n\n",
        "  P = curve.g # element G of prime order q is chosen in E(GF(p))\n",
        "  x = secrets.randbelow(q) #privkey\n",
        "  Q = x * P # pubkey\n",
        "  #h = hashlib.sha1(m)\n",
        "  h = int(hashlib.sha512(m).hexdigest(),16)\n",
        "  #Firma digital\n",
        "  r = 0\n",
        "  s = 0\n",
        "\n",
        "  while r == 0 or s == 0:\n",
        "    k = secrets.randbelow(q)\n",
        "    kP = k * P\n",
        "    r = kP.x % q\n",
        "    l = alg_euc_ext(q, k)[2] # inverso de k\n",
        "    s = (l*(h + x*r))%q\n",
        "  return r, s, Q, h\n",
        "\n",
        "def verificado_dsa(curve, r, s, Q, h):\n",
        "  #Generaicón de clave\n",
        "  q = curve.field.n\n",
        "  P = curve.g\n",
        "\n",
        "  #Verificación de la firma\n",
        "  if 1<=r and 1<=s and r<=(q-1) and s<=(q-1):\n",
        "    w = alg_euc_ext(curve.field.n, s)[2] # invserso s\n",
        "    u1 = h * w % q\n",
        "    u2 = r * w % q\n",
        "    v = (u1*P + u2*Q).x%q\n",
        "    if v == r:\n",
        "      print('Se acepta la firma')\n",
        "    else:\n",
        "      print('Se rechaza la firma')\n",
        "\n",
        "  else:\n",
        "    print('Error: no cumple con 1<=r, s<=q-1')"
      ]
    },
    {
      "attachments": {},
      "cell_type": "markdown",
      "metadata": {},
      "source": [
        "### Comprobación RFC (ECDSA, 256 Bits (Prime Field))"
      ]
    },
    {
      "cell_type": "code",
      "execution_count": null,
      "metadata": {},
      "outputs": [],
      "source": [
        "def firmado_dsa(curve, m , q, x, Ux, Uy, hash):\n",
        "  # Generación de clave\n",
        "  #q = curve.field.n\n",
        "  P = curve.g # element G of prime order q is chosen in E(GF(p))\n",
        "  #x = secrets.randbelow(q) #privkey\n",
        "  Q = x * P # pubkey\n",
        "  #h = hashlib.sha1(m)\n",
        "  h = int(hash(m).hexdigest(),16)\n",
        "  #Firma digital\n",
        "  r = 0\n",
        "  s = 0\n",
        "\n",
        "  while r == 0 or s == 0:\n",
        "    k = secrets.randbelow(q)\n",
        "    kP = k * P\n",
        "    r = kP.x % q\n",
        "    l = alg_euc_ext(q, k)[2] # inverso de k\n",
        "    s = (l*(h + x*r))%q\n",
        "  return r, s, Q, h\n"
      ]
    },
    {
      "cell_type": "code",
      "execution_count": 23,
      "metadata": {},
      "outputs": [],
      "source": [
        "import hmac\n",
        "import hashlib\n",
        "\n",
        "def deterministic_k(key, message):\n",
        "    v = b'\\x01' * 32\n",
        "    k = b'\\x00' * 32\n",
        "    k = hmac.new(k, v + b'\\x00' + message, hashlib.sha256).digest()\n",
        "    v = hmac.new(k, v, hashlib.sha256).digest()\n",
        "    k = hmac.new(k, v + b'\\x01' + message, hashlib.sha256).digest()\n",
        "    v = hmac.new(k, v, hashlib.sha256).digest()\n",
        "    return int.from_bytes(v, 'big')\n",
        "\n",
        "def firmado_dsa(curve, m, q, x, Ux, Uy, hash):\n",
        "    P = curve.g\n",
        "    #Q = x * P\n",
        "    h = int(hash(m).hexdigest(), 16)\n",
        "\n",
        "    r = 0\n",
        "    s = 0\n",
        "\n",
        "    while r == 0 or s == 0:\n",
        "        k = deterministic_k(Ux, m.encode()) % q\n",
        "        kP = k * P\n",
        "        r = kP.x % q\n",
        "        l = alg_euc_ext(q, k)[2]  # inverso de k\n",
        "        s = (l * (h + x * r)) % q\n",
        "\n",
        "    return r, s, k\n"
      ]
    },
    {
      "cell_type": "code",
      "execution_count": 24,
      "metadata": {},
      "outputs": [],
      "source": [
        "q = 'FFFFFFFF00000000FFFFFFFFFFFFFFFFBCE6FAADA7179E84F3B9CAC2FC632551'\n",
        "x = 'C9AFA9D845BA75166B5C215767B1D6934E50C3DB36E89B127B8A622B120F6721' # priv key\n",
        "Ux = '60FED4BA255A9D31C961EB74C6356D68C049B8923B61FA6CE669622E60F29FB6'\n",
        "Uy = '7903FE1008B8BC99A41AE9E95628BC64F2F1B20C2D7E9F5177A3C294D4462299'\n",
        "m = \"sample\"\n",
        "curve = registry.get_curve('brainpoolP256r1')"
      ]
    },
    {
      "cell_type": "code",
      "execution_count": 25,
      "metadata": {},
      "outputs": [
        {
          "ename": "TypeError",
          "evalue": "unsupported operand type(s) for %: 'int' and 'str'",
          "output_type": "error",
          "traceback": [
            "\u001b[1;31m---------------------------------------------------------------------------\u001b[0m",
            "\u001b[1;31mTypeError\u001b[0m                                 Traceback (most recent call last)",
            "\u001b[1;32mc:\\Users\\Enrique\\OneDrive - Instituto Tecnologico y de Estudios Superiores de Monterrey\\Documents\\Escuela\\FJ23\\Algebra moderna Cripto\\reto\\Reto-Git\\LiCore-Crypto-IoT\\Complementary code\\ECDSA_RFC.ipynb Cell 14\u001b[0m in \u001b[0;36m<cell line: 2>\u001b[1;34m()\u001b[0m\n\u001b[0;32m      <a href='vscode-notebook-cell:/c%3A/Users/Enrique/OneDrive%20-%20Instituto%20Tecnologico%20y%20de%20Estudios%20Superiores%20de%20Monterrey/Documents/Escuela/FJ23/Algebra%20moderna%20Cripto/reto/Reto-Git/LiCore-Crypto-IoT/Complementary%20code/ECDSA_RFC.ipynb#X25sZmlsZQ%3D%3D?line=0'>1</a>\u001b[0m \u001b[39mhash\u001b[39m \u001b[39m=\u001b[39m \u001b[39mlambda\u001b[39;00m x: hashlib\u001b[39m.\u001b[39msha1(x\u001b[39m.\u001b[39mencode())\n\u001b[1;32m----> <a href='vscode-notebook-cell:/c%3A/Users/Enrique/OneDrive%20-%20Instituto%20Tecnologico%20y%20de%20Estudios%20Superiores%20de%20Monterrey/Documents/Escuela/FJ23/Algebra%20moderna%20Cripto/reto/Reto-Git/LiCore-Crypto-IoT/Complementary%20code/ECDSA_RFC.ipynb#X25sZmlsZQ%3D%3D?line=1'>2</a>\u001b[0m firmado_dsa(curve, m, q, x, Ux, Uy, \u001b[39mhash\u001b[39;49m)\n",
            "\u001b[1;32mc:\\Users\\Enrique\\OneDrive - Instituto Tecnologico y de Estudios Superiores de Monterrey\\Documents\\Escuela\\FJ23\\Algebra moderna Cripto\\reto\\Reto-Git\\LiCore-Crypto-IoT\\Complementary code\\ECDSA_RFC.ipynb Cell 14\u001b[0m in \u001b[0;36mfirmado_dsa\u001b[1;34m(curve, m, q, x, Ux, Uy, hash)\u001b[0m\n\u001b[0;32m     <a href='vscode-notebook-cell:/c%3A/Users/Enrique/OneDrive%20-%20Instituto%20Tecnologico%20y%20de%20Estudios%20Superiores%20de%20Monterrey/Documents/Escuela/FJ23/Algebra%20moderna%20Cripto/reto/Reto-Git/LiCore-Crypto-IoT/Complementary%20code/ECDSA_RFC.ipynb#X25sZmlsZQ%3D%3D?line=18'>19</a>\u001b[0m s \u001b[39m=\u001b[39m \u001b[39m0\u001b[39m\n\u001b[0;32m     <a href='vscode-notebook-cell:/c%3A/Users/Enrique/OneDrive%20-%20Instituto%20Tecnologico%20y%20de%20Estudios%20Superiores%20de%20Monterrey/Documents/Escuela/FJ23/Algebra%20moderna%20Cripto/reto/Reto-Git/LiCore-Crypto-IoT/Complementary%20code/ECDSA_RFC.ipynb#X25sZmlsZQ%3D%3D?line=20'>21</a>\u001b[0m \u001b[39mwhile\u001b[39;00m r \u001b[39m==\u001b[39m \u001b[39m0\u001b[39m \u001b[39mor\u001b[39;00m s \u001b[39m==\u001b[39m \u001b[39m0\u001b[39m:\n\u001b[1;32m---> <a href='vscode-notebook-cell:/c%3A/Users/Enrique/OneDrive%20-%20Instituto%20Tecnologico%20y%20de%20Estudios%20Superiores%20de%20Monterrey/Documents/Escuela/FJ23/Algebra%20moderna%20Cripto/reto/Reto-Git/LiCore-Crypto-IoT/Complementary%20code/ECDSA_RFC.ipynb#X25sZmlsZQ%3D%3D?line=21'>22</a>\u001b[0m     k \u001b[39m=\u001b[39m deterministic_k(Ux, m\u001b[39m.\u001b[39;49mencode()) \u001b[39m%\u001b[39;49m q\n\u001b[0;32m     <a href='vscode-notebook-cell:/c%3A/Users/Enrique/OneDrive%20-%20Instituto%20Tecnologico%20y%20de%20Estudios%20Superiores%20de%20Monterrey/Documents/Escuela/FJ23/Algebra%20moderna%20Cripto/reto/Reto-Git/LiCore-Crypto-IoT/Complementary%20code/ECDSA_RFC.ipynb#X25sZmlsZQ%3D%3D?line=22'>23</a>\u001b[0m     kP \u001b[39m=\u001b[39m k \u001b[39m*\u001b[39m P\n\u001b[0;32m     <a href='vscode-notebook-cell:/c%3A/Users/Enrique/OneDrive%20-%20Instituto%20Tecnologico%20y%20de%20Estudios%20Superiores%20de%20Monterrey/Documents/Escuela/FJ23/Algebra%20moderna%20Cripto/reto/Reto-Git/LiCore-Crypto-IoT/Complementary%20code/ECDSA_RFC.ipynb#X25sZmlsZQ%3D%3D?line=23'>24</a>\u001b[0m     r \u001b[39m=\u001b[39m kP\u001b[39m.\u001b[39mx \u001b[39m%\u001b[39m q\n",
            "\u001b[1;31mTypeError\u001b[0m: unsupported operand type(s) for %: 'int' and 'str'"
          ]
        }
      ],
      "source": [
        "hash = lambda x: hashlib.sha1(x.encode())\n",
        "firmado_dsa(curve, m, q, x, Ux, Uy, hash)"
      ]
    },
    {
      "attachments": {},
      "cell_type": "markdown",
      "metadata": {
        "id": "fuWwp_ciqURm"
      },
      "source": [
        "### Ejemplo con curva"
      ]
    },
    {
      "cell_type": "code",
      "execution_count": null,
      "metadata": {
        "colab": {
          "base_uri": "https://localhost:8080/"
        },
        "id": "V7CpB7as5Yke",
        "outputId": "671a50ed-0c37-466c-ca58-574204d63a26"
      },
      "outputs": [
        {
          "name": "stdout",
          "output_type": "stream",
          "text": [
            "Se acepta la firma\n"
          ]
        }
      ],
      "source": [
        "curve = registry.get_curve('brainpoolP256r1')\n",
        "# Se convierte la base de datos a bytes para su manejo\n",
        "m = pickle.dumps(dataset, protocol=4)\n",
        "\n",
        "r,s,Q,h= firmado_dsa(curve, m)\n",
        "\n",
        "verificado_dsa(curve, r, s, Q, h)"
      ]
    },
    {
      "attachments": {},
      "cell_type": "markdown",
      "metadata": {
        "id": "PevY01K5qbXx"
      },
      "source": [
        "### Por renglón"
      ]
    },
    {
      "cell_type": "code",
      "execution_count": null,
      "metadata": {
        "id": "NDxKq-udlUx2"
      },
      "outputs": [],
      "source": [
        "# Firmado y lista con la curva, r, s y Q\n",
        "def firmado_df(df):\n",
        "  a = []\n",
        "  for i in df.index:\n",
        "    curve = registry.get_curve('brainpoolP256r1')\n",
        "    m = pickle.dumps(df.iloc[i].to_numpy(), protocol=4)\n",
        "    r,s,Q,h = firmado_dsa(curve, m)\n",
        "    a.append([curve, r,s,Q,h])\n",
        "  return a"
      ]
    },
    {
      "cell_type": "code",
      "execution_count": null,
      "metadata": {
        "id": "y8-O9zBamQM5"
      },
      "outputs": [],
      "source": [
        "# Verificación firma\n",
        "def ver_df(a):\n",
        "  for i in range(len(a)):\n",
        "    verificado_dsa(a[i][0],a[i][1],a[i][2],a[i][3],a[i][4])"
      ]
    },
    {
      "cell_type": "code",
      "execution_count": null,
      "metadata": {
        "colab": {
          "base_uri": "https://localhost:8080/"
        },
        "id": "D8UR4a9dojO7",
        "outputId": "67367f3a-44bc-4c28-fee8-8ac2b45230bb"
      },
      "outputs": [
        {
          "name": "stdout",
          "output_type": "stream",
          "text": [
            "Se acepta la firma\n",
            "Se acepta la firma\n",
            "Se acepta la firma\n",
            "Se acepta la firma\n",
            "Se acepta la firma\n"
          ]
        }
      ],
      "source": [
        "ver_df(firmado_df(dataset.iloc[0:5]))"
      ]
    },
    {
      "cell_type": "code",
      "execution_count": null,
      "metadata": {
        "colab": {
          "base_uri": "https://localhost:8080/",
          "height": 226
        },
        "id": "ClKoK1p3JCOf",
        "outputId": "762ef4a4-c041-4bc9-aa5e-22650e68456e"
      },
      "outputs": [
        {
          "data": {
            "text/html": [
              "\n",
              "  <div id=\"df-13f16257-bb35-49e1-961e-4017d4276480\">\n",
              "    <div class=\"colab-df-container\">\n",
              "      <div>\n",
              "<style scoped>\n",
              "    .dataframe tbody tr th:only-of-type {\n",
              "        vertical-align: middle;\n",
              "    }\n",
              "\n",
              "    .dataframe tbody tr th {\n",
              "        vertical-align: top;\n",
              "    }\n",
              "\n",
              "    .dataframe thead th {\n",
              "        text-align: right;\n",
              "    }\n",
              "</style>\n",
              "<table border=\"1\" class=\"dataframe\">\n",
              "  <thead>\n",
              "    <tr style=\"text-align: right;\">\n",
              "      <th></th>\n",
              "      <th>ID</th>\n",
              "      <th>Consumo (0) / Producción (1)</th>\n",
              "      <th>Dia</th>\n",
              "      <th>Mes</th>\n",
              "      <th>Año</th>\n",
              "      <th>1</th>\n",
              "      <th>2</th>\n",
              "      <th>3</th>\n",
              "      <th>4</th>\n",
              "      <th>5</th>\n",
              "      <th>...</th>\n",
              "      <th>87</th>\n",
              "      <th>88</th>\n",
              "      <th>89</th>\n",
              "      <th>90</th>\n",
              "      <th>91</th>\n",
              "      <th>92</th>\n",
              "      <th>93</th>\n",
              "      <th>94</th>\n",
              "      <th>95</th>\n",
              "      <th>96</th>\n",
              "    </tr>\n",
              "  </thead>\n",
              "  <tbody>\n",
              "    <tr>\n",
              "      <th>0</th>\n",
              "      <td>ABC</td>\n",
              "      <td>0</td>\n",
              "      <td>2</td>\n",
              "      <td>11</td>\n",
              "      <td>2013</td>\n",
              "      <td>58.0</td>\n",
              "      <td>75.0</td>\n",
              "      <td>65.0</td>\n",
              "      <td>0.08</td>\n",
              "      <td>67.0</td>\n",
              "      <td>...</td>\n",
              "      <td>338.0</td>\n",
              "      <td>369.0</td>\n",
              "      <td>318.0</td>\n",
              "      <td>322.0</td>\n",
              "      <td>345.0</td>\n",
              "      <td>298.0</td>\n",
              "      <td>316.0</td>\n",
              "      <td>299.0</td>\n",
              "      <td>341.0</td>\n",
              "      <td>304.0</td>\n",
              "    </tr>\n",
              "  </tbody>\n",
              "</table>\n",
              "<p>1 rows × 101 columns</p>\n",
              "</div>\n",
              "      <button class=\"colab-df-convert\" onclick=\"convertToInteractive('df-13f16257-bb35-49e1-961e-4017d4276480')\"\n",
              "              title=\"Convert this dataframe to an interactive table.\"\n",
              "              style=\"display:none;\">\n",
              "        \n",
              "  <svg xmlns=\"http://www.w3.org/2000/svg\" height=\"24px\"viewBox=\"0 0 24 24\"\n",
              "       width=\"24px\">\n",
              "    <path d=\"M0 0h24v24H0V0z\" fill=\"none\"/>\n",
              "    <path d=\"M18.56 5.44l.94 2.06.94-2.06 2.06-.94-2.06-.94-.94-2.06-.94 2.06-2.06.94zm-11 1L8.5 8.5l.94-2.06 2.06-.94-2.06-.94L8.5 2.5l-.94 2.06-2.06.94zm10 10l.94 2.06.94-2.06 2.06-.94-2.06-.94-.94-2.06-.94 2.06-2.06.94z\"/><path d=\"M17.41 7.96l-1.37-1.37c-.4-.4-.92-.59-1.43-.59-.52 0-1.04.2-1.43.59L10.3 9.45l-7.72 7.72c-.78.78-.78 2.05 0 2.83L4 21.41c.39.39.9.59 1.41.59.51 0 1.02-.2 1.41-.59l7.78-7.78 2.81-2.81c.8-.78.8-2.07 0-2.86zM5.41 20L4 18.59l7.72-7.72 1.47 1.35L5.41 20z\"/>\n",
              "  </svg>\n",
              "      </button>\n",
              "      \n",
              "  <style>\n",
              "    .colab-df-container {\n",
              "      display:flex;\n",
              "      flex-wrap:wrap;\n",
              "      gap: 12px;\n",
              "    }\n",
              "\n",
              "    .colab-df-convert {\n",
              "      background-color: #E8F0FE;\n",
              "      border: none;\n",
              "      border-radius: 50%;\n",
              "      cursor: pointer;\n",
              "      display: none;\n",
              "      fill: #1967D2;\n",
              "      height: 32px;\n",
              "      padding: 0 0 0 0;\n",
              "      width: 32px;\n",
              "    }\n",
              "\n",
              "    .colab-df-convert:hover {\n",
              "      background-color: #E2EBFA;\n",
              "      box-shadow: 0px 1px 2px rgba(60, 64, 67, 0.3), 0px 1px 3px 1px rgba(60, 64, 67, 0.15);\n",
              "      fill: #174EA6;\n",
              "    }\n",
              "\n",
              "    [theme=dark] .colab-df-convert {\n",
              "      background-color: #3B4455;\n",
              "      fill: #D2E3FC;\n",
              "    }\n",
              "\n",
              "    [theme=dark] .colab-df-convert:hover {\n",
              "      background-color: #434B5C;\n",
              "      box-shadow: 0px 1px 3px 1px rgba(0, 0, 0, 0.15);\n",
              "      filter: drop-shadow(0px 1px 2px rgba(0, 0, 0, 0.3));\n",
              "      fill: #FFFFFF;\n",
              "    }\n",
              "  </style>\n",
              "\n",
              "      <script>\n",
              "        const buttonEl =\n",
              "          document.querySelector('#df-13f16257-bb35-49e1-961e-4017d4276480 button.colab-df-convert');\n",
              "        buttonEl.style.display =\n",
              "          google.colab.kernel.accessAllowed ? 'block' : 'none';\n",
              "\n",
              "        async function convertToInteractive(key) {\n",
              "          const element = document.querySelector('#df-13f16257-bb35-49e1-961e-4017d4276480');\n",
              "          const dataTable =\n",
              "            await google.colab.kernel.invokeFunction('convertToInteractive',\n",
              "                                                     [key], {});\n",
              "          if (!dataTable) return;\n",
              "\n",
              "          const docLinkHtml = 'Like what you see? Visit the ' +\n",
              "            '<a target=\"_blank\" href=https://colab.research.google.com/notebooks/data_table.ipynb>data table notebook</a>'\n",
              "            + ' to learn more about interactive tables.';\n",
              "          element.innerHTML = '';\n",
              "          dataTable['output_type'] = 'display_data';\n",
              "          await google.colab.output.renderOutput(dataTable, element);\n",
              "          const docLink = document.createElement('div');\n",
              "          docLink.innerHTML = docLinkHtml;\n",
              "          element.appendChild(docLink);\n",
              "        }\n",
              "      </script>\n",
              "    </div>\n",
              "  </div>\n",
              "  "
            ],
            "text/plain": [
              "    ID  Consumo (0) / Producción (1)  Dia  Mes    Año     1     2     3     4  \\\n",
              "0  ABC                             0    2    11  2013  58.0  75.0  65.0  0.08   \n",
              "\n",
              "      5  ...     87     88     89     90     91     92     93     94     95  \\\n",
              "0  67.0  ...  338.0  369.0  318.0  322.0  345.0  298.0  316.0  299.0  341.0   \n",
              "\n",
              "      96  \n",
              "0  304.0  \n",
              "\n",
              "[1 rows x 101 columns]"
            ]
          },
          "execution_count": 12,
          "metadata": {},
          "output_type": "execute_result"
        }
      ],
      "source": [
        "dataset.iloc[0:1]"
      ]
    },
    {
      "cell_type": "code",
      "execution_count": null,
      "metadata": {
        "colab": {
          "base_uri": "https://localhost:8080/"
        },
        "id": "_7yLFhbFIyBO",
        "outputId": "b56e4ef5-620d-4297-fc59-f82b6d9e557a"
      },
      "outputs": [
        {
          "data": {
            "text/plain": [
              "[[<tinyec.ec.Curve at 0x7f1fffd06dd0>,\n",
              "  60089933663468299055621817546679137750978559245708831107792558496114058219345,\n",
              "  34831935301576747237372464182751589532108630353834853593505119917594534237258,\n",
              "  (70517755880371616239975555144258722646426394101001506394292817058863571689552, 43329819081636892630982966405395588075619846542826312892897683831502202431772) on \"brainpoolP256r1\" => y^2 = x^3 + 56698187605326110043627228396178346077120614539475214109386828188763884139993x + 17577232497321838841075697789794520262950426058923084567046852300633325438902 (mod 76884956397045344220809746629001649093037950200943055203735601445031516197751),\n",
              "  1577118564501321564894959830782048992353602082558023345026291886523541253994903531347913055207288715772412847032037748353280786152445928468657328298591352],\n",
              " [<tinyec.ec.Curve at 0x7f1fffd040d0>,\n",
              "  23728480287908685859706948613122796466828999032854313691216975562175034005259,\n",
              "  26232009135395958837418550142026753708027063768876080799536299979071276070343,\n",
              "  (69630567486144550528846754376509849757145944502087266411527177152941326629485, 71738182709283840929414565781330697607938492113512188444232451449045831651578) on \"brainpoolP256r1\" => y^2 = x^3 + 56698187605326110043627228396178346077120614539475214109386828188763884139993x + 17577232497321838841075697789794520262950426058923084567046852300633325438902 (mod 76884956397045344220809746629001649093037950200943055203735601445031516197751),\n",
              "  1856955011416336807986826979382270210345349018548282633011488504563372772489746321800688695757629321831332289563234910226681515768222881902451825983190459],\n",
              " [<tinyec.ec.Curve at 0x7f1fffd063b0>,\n",
              "  72956234386774525405858961362929254993731876354629816494508923852834129932092,\n",
              "  45054390169831334946592412875998317906855690303059777214116828466085259749417,\n",
              "  (64678402304272613892834403795406304982739734832361903556635285043866926114788, 20834445465404357659035283872669716594089522120774572952664926860994596523175) on \"brainpoolP256r1\" => y^2 = x^3 + 56698187605326110043627228396178346077120614539475214109386828188763884139993x + 17577232497321838841075697789794520262950426058923084567046852300633325438902 (mod 76884956397045344220809746629001649093037950200943055203735601445031516197751),\n",
              "  207683304330546839406488904925010973100341179466807116987196581677191393926390046651622216411540667889593949553519421263649716196009051883063604947789414],\n",
              " [<tinyec.ec.Curve at 0x7f1fffd06680>,\n",
              "  56078998169829484037413001387571169964826878314847967377958474787438025027066,\n",
              "  4329706663355234063683042605420149615313567649371480292602147752801518873601,\n",
              "  (15494160354886828580836097854479501666437666738695975259518204961515631439087, 58539056646027608955699117935709107310078697897104274272123229801660576311664) on \"brainpoolP256r1\" => y^2 = x^3 + 56698187605326110043627228396178346077120614539475214109386828188763884139993x + 17577232497321838841075697789794520262950426058923084567046852300633325438902 (mod 76884956397045344220809746629001649093037950200943055203735601445031516197751),\n",
              "  7283910659346501314793197478039115478776335097369982386894239507566719074956099699139345533005841917815932665436010242928955880806199880347236562644547869],\n",
              " [<tinyec.ec.Curve at 0x7f1fffd05de0>,\n",
              "  6302792151950991134875643880419273237354005651327854268727080138622152676795,\n",
              "  4167553682195477092813892124647890524169157319557093492309329600887159078005,\n",
              "  (48793666771943837052628776222666754874433845202331442186935881468535275316171, 31064699026086998933108816114396759936031797235133848005498718629825939391991) on \"brainpoolP256r1\" => y^2 = x^3 + 56698187605326110043627228396178346077120614539475214109386828188763884139993x + 17577232497321838841075697789794520262950426058923084567046852300633325438902 (mod 76884956397045344220809746629001649093037950200943055203735601445031516197751),\n",
              "  7715075575152994586991174933817818435652138121775856291825330297542910178139711310231102232227019326647939498840209360942766778067735327016857877183953253]]"
            ]
          },
          "execution_count": 24,
          "metadata": {},
          "output_type": "execute_result"
        }
      ],
      "source": [
        "firmado_df(dataset.iloc[0:5])"
      ]
    }
  ],
  "metadata": {
    "colab": {
      "provenance": []
    },
    "kernelspec": {
      "display_name": "Python 3",
      "name": "python3"
    },
    "language_info": {
      "codemirror_mode": {
        "name": "ipython",
        "version": 3
      },
      "file_extension": ".py",
      "mimetype": "text/x-python",
      "name": "python",
      "nbconvert_exporter": "python",
      "pygments_lexer": "ipython3",
      "version": "3.10.5"
    }
  },
  "nbformat": 4,
  "nbformat_minor": 0
}
