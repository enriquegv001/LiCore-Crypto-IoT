{
  "nbformat": 4,
  "nbformat_minor": 0,
  "metadata": {
    "colab": {
      "provenance": []
    },
    "kernelspec": {
      "name": "python3",
      "display_name": "Python 3"
    },
    "language_info": {
      "name": "python"
    }
  },
  "cells": [
    {
      "cell_type": "code",
      "source": [
        "!pip install tinyec"
      ],
      "metadata": {
        "colab": {
          "base_uri": "https://localhost:8080/"
        },
        "id": "uV5MMYfa3cNT",
        "outputId": "d6067227-a5af-474e-b551-4a11f9d0beb7"
      },
      "execution_count": null,
      "outputs": [
        {
          "output_type": "stream",
          "name": "stdout",
          "text": [
            "Looking in indexes: https://pypi.org/simple, https://us-python.pkg.dev/colab-wheels/public/simple/\n",
            "Collecting tinyec\n",
            "  Downloading tinyec-0.4.0.tar.gz (24 kB)\n",
            "  Preparing metadata (setup.py) ... \u001b[?25l\u001b[?25hdone\n",
            "Building wheels for collected packages: tinyec\n",
            "  Building wheel for tinyec (setup.py) ... \u001b[?25l\u001b[?25hdone\n",
            "  Created wheel for tinyec: filename=tinyec-0.4.0-py3-none-any.whl size=20877 sha256=e4ba055af420751acb1c12c238ca26295c242741b7fc97729bb9e243ef598f13\n",
            "  Stored in directory: /root/.cache/pip/wheels/02/37/a5/aa011cfa66451de6aa2dbccaa3e7862e8290f0946653753265\n",
            "Successfully built tinyec\n",
            "Installing collected packages: tinyec\n",
            "Successfully installed tinyec-0.4.0\n"
          ]
        }
      ]
    },
    {
      "cell_type": "code",
      "source": [
        "!pip install pycryptodome"
      ],
      "metadata": {
        "colab": {
          "base_uri": "https://localhost:8080/"
        },
        "id": "gvljrnEz3fGt",
        "outputId": "44eafe30-2a38-49a2-8cf8-ca71b5c20f6d"
      },
      "execution_count": null,
      "outputs": [
        {
          "output_type": "stream",
          "name": "stdout",
          "text": [
            "Looking in indexes: https://pypi.org/simple, https://us-python.pkg.dev/colab-wheels/public/simple/\n",
            "Collecting pycryptodome\n",
            "  Downloading pycryptodome-3.18.0-cp35-abi3-manylinux_2_17_x86_64.manylinux2014_x86_64.whl (2.1 MB)\n",
            "\u001b[2K     \u001b[90m━━━━━━━━━━━━━━━━━━━━━━━━━━━━━━━━━━━━━━━━\u001b[0m \u001b[32m2.1/2.1 MB\u001b[0m \u001b[31m24.1 MB/s\u001b[0m eta \u001b[36m0:00:00\u001b[0m\n",
            "\u001b[?25hInstalling collected packages: pycryptodome\n",
            "Successfully installed pycryptodome-3.18.0\n"
          ]
        }
      ]
    },
    {
      "cell_type": "code",
      "execution_count": null,
      "metadata": {
        "id": "qRkBxc1lNUik"
      },
      "outputs": [],
      "source": [
        "import pandas as pd\n",
        "import pickle\n",
        "# Descarga de librerías para la generación de llaves\n",
        "from tinyec import registry\n",
        "import secrets"
      ]
    },
    {
      "cell_type": "code",
      "source": [
        "from google.colab import drive\n",
        "drive.mount('/content/drive')"
      ],
      "metadata": {
        "colab": {
          "base_uri": "https://localhost:8080/"
        },
        "id": "6SZlzsaI3iDW",
        "outputId": "9f0439fd-c48e-4884-a77c-91521245a4c1"
      },
      "execution_count": null,
      "outputs": [
        {
          "output_type": "stream",
          "name": "stdout",
          "text": [
            "Mounted at /content/drive\n"
          ]
        }
      ]
    },
    {
      "cell_type": "code",
      "source": [
        "dataset = pd.read_csv('/content/drive/Shareddrives/Cripto 3/reto/Prosumer_ABC.csv', header= 0, sep = \";\" )\n",
        "dataset.head(3)"
      ],
      "metadata": {
        "colab": {
          "base_uri": "https://localhost:8080/",
          "height": 289
        },
        "id": "Bmcp9YvM3oSb",
        "outputId": "6f080b13-bf21-4cca-f532-7e6700808035"
      },
      "execution_count": null,
      "outputs": [
        {
          "output_type": "execute_result",
          "data": {
            "text/plain": [
              "    ID  Consumo (0) / Producción (1)  Dia  Mes    Año      1     2     3  \\\n",
              "0  ABC                             0    2    11  2013  58.00  75.0  65.0   \n",
              "1  ABC                             0    3    11  2013   0.16   0.1  68.0   \n",
              "2  ABC                             0    4    11  2013   0.08  66.0  77.0   \n",
              "\n",
              "       4     5  ...     87     88     89     90     91     92     93     94  \\\n",
              "0   0.08  67.0  ...  338.0  369.0  318.0  322.0  345.0  298.0  316.0  299.0   \n",
              "1  69.00  75.0  ...   67.0   74.0   61.0   84.0   74.0   67.0   77.0   91.0   \n",
              "2  64.00  84.0  ...  114.0  106.0  128.0  511.0   74.0   84.0   59.0   69.0   \n",
              "\n",
              "       95     96  \n",
              "0  341.00  304.0  \n",
              "1    0.07   61.0  \n",
              "2   69.00   71.0  \n",
              "\n",
              "[3 rows x 101 columns]"
            ],
            "text/html": [
              "\n",
              "  <div id=\"df-48aebafa-2161-48f9-80a6-383bc18ff9c4\">\n",
              "    <div class=\"colab-df-container\">\n",
              "      <div>\n",
              "<style scoped>\n",
              "    .dataframe tbody tr th:only-of-type {\n",
              "        vertical-align: middle;\n",
              "    }\n",
              "\n",
              "    .dataframe tbody tr th {\n",
              "        vertical-align: top;\n",
              "    }\n",
              "\n",
              "    .dataframe thead th {\n",
              "        text-align: right;\n",
              "    }\n",
              "</style>\n",
              "<table border=\"1\" class=\"dataframe\">\n",
              "  <thead>\n",
              "    <tr style=\"text-align: right;\">\n",
              "      <th></th>\n",
              "      <th>ID</th>\n",
              "      <th>Consumo (0) / Producción (1)</th>\n",
              "      <th>Dia</th>\n",
              "      <th>Mes</th>\n",
              "      <th>Año</th>\n",
              "      <th>1</th>\n",
              "      <th>2</th>\n",
              "      <th>3</th>\n",
              "      <th>4</th>\n",
              "      <th>5</th>\n",
              "      <th>...</th>\n",
              "      <th>87</th>\n",
              "      <th>88</th>\n",
              "      <th>89</th>\n",
              "      <th>90</th>\n",
              "      <th>91</th>\n",
              "      <th>92</th>\n",
              "      <th>93</th>\n",
              "      <th>94</th>\n",
              "      <th>95</th>\n",
              "      <th>96</th>\n",
              "    </tr>\n",
              "  </thead>\n",
              "  <tbody>\n",
              "    <tr>\n",
              "      <th>0</th>\n",
              "      <td>ABC</td>\n",
              "      <td>0</td>\n",
              "      <td>2</td>\n",
              "      <td>11</td>\n",
              "      <td>2013</td>\n",
              "      <td>58.00</td>\n",
              "      <td>75.0</td>\n",
              "      <td>65.0</td>\n",
              "      <td>0.08</td>\n",
              "      <td>67.0</td>\n",
              "      <td>...</td>\n",
              "      <td>338.0</td>\n",
              "      <td>369.0</td>\n",
              "      <td>318.0</td>\n",
              "      <td>322.0</td>\n",
              "      <td>345.0</td>\n",
              "      <td>298.0</td>\n",
              "      <td>316.0</td>\n",
              "      <td>299.0</td>\n",
              "      <td>341.00</td>\n",
              "      <td>304.0</td>\n",
              "    </tr>\n",
              "    <tr>\n",
              "      <th>1</th>\n",
              "      <td>ABC</td>\n",
              "      <td>0</td>\n",
              "      <td>3</td>\n",
              "      <td>11</td>\n",
              "      <td>2013</td>\n",
              "      <td>0.16</td>\n",
              "      <td>0.1</td>\n",
              "      <td>68.0</td>\n",
              "      <td>69.00</td>\n",
              "      <td>75.0</td>\n",
              "      <td>...</td>\n",
              "      <td>67.0</td>\n",
              "      <td>74.0</td>\n",
              "      <td>61.0</td>\n",
              "      <td>84.0</td>\n",
              "      <td>74.0</td>\n",
              "      <td>67.0</td>\n",
              "      <td>77.0</td>\n",
              "      <td>91.0</td>\n",
              "      <td>0.07</td>\n",
              "      <td>61.0</td>\n",
              "    </tr>\n",
              "    <tr>\n",
              "      <th>2</th>\n",
              "      <td>ABC</td>\n",
              "      <td>0</td>\n",
              "      <td>4</td>\n",
              "      <td>11</td>\n",
              "      <td>2013</td>\n",
              "      <td>0.08</td>\n",
              "      <td>66.0</td>\n",
              "      <td>77.0</td>\n",
              "      <td>64.00</td>\n",
              "      <td>84.0</td>\n",
              "      <td>...</td>\n",
              "      <td>114.0</td>\n",
              "      <td>106.0</td>\n",
              "      <td>128.0</td>\n",
              "      <td>511.0</td>\n",
              "      <td>74.0</td>\n",
              "      <td>84.0</td>\n",
              "      <td>59.0</td>\n",
              "      <td>69.0</td>\n",
              "      <td>69.00</td>\n",
              "      <td>71.0</td>\n",
              "    </tr>\n",
              "  </tbody>\n",
              "</table>\n",
              "<p>3 rows × 101 columns</p>\n",
              "</div>\n",
              "      <button class=\"colab-df-convert\" onclick=\"convertToInteractive('df-48aebafa-2161-48f9-80a6-383bc18ff9c4')\"\n",
              "              title=\"Convert this dataframe to an interactive table.\"\n",
              "              style=\"display:none;\">\n",
              "        \n",
              "  <svg xmlns=\"http://www.w3.org/2000/svg\" height=\"24px\"viewBox=\"0 0 24 24\"\n",
              "       width=\"24px\">\n",
              "    <path d=\"M0 0h24v24H0V0z\" fill=\"none\"/>\n",
              "    <path d=\"M18.56 5.44l.94 2.06.94-2.06 2.06-.94-2.06-.94-.94-2.06-.94 2.06-2.06.94zm-11 1L8.5 8.5l.94-2.06 2.06-.94-2.06-.94L8.5 2.5l-.94 2.06-2.06.94zm10 10l.94 2.06.94-2.06 2.06-.94-2.06-.94-.94-2.06-.94 2.06-2.06.94z\"/><path d=\"M17.41 7.96l-1.37-1.37c-.4-.4-.92-.59-1.43-.59-.52 0-1.04.2-1.43.59L10.3 9.45l-7.72 7.72c-.78.78-.78 2.05 0 2.83L4 21.41c.39.39.9.59 1.41.59.51 0 1.02-.2 1.41-.59l7.78-7.78 2.81-2.81c.8-.78.8-2.07 0-2.86zM5.41 20L4 18.59l7.72-7.72 1.47 1.35L5.41 20z\"/>\n",
              "  </svg>\n",
              "      </button>\n",
              "      \n",
              "  <style>\n",
              "    .colab-df-container {\n",
              "      display:flex;\n",
              "      flex-wrap:wrap;\n",
              "      gap: 12px;\n",
              "    }\n",
              "\n",
              "    .colab-df-convert {\n",
              "      background-color: #E8F0FE;\n",
              "      border: none;\n",
              "      border-radius: 50%;\n",
              "      cursor: pointer;\n",
              "      display: none;\n",
              "      fill: #1967D2;\n",
              "      height: 32px;\n",
              "      padding: 0 0 0 0;\n",
              "      width: 32px;\n",
              "    }\n",
              "\n",
              "    .colab-df-convert:hover {\n",
              "      background-color: #E2EBFA;\n",
              "      box-shadow: 0px 1px 2px rgba(60, 64, 67, 0.3), 0px 1px 3px 1px rgba(60, 64, 67, 0.15);\n",
              "      fill: #174EA6;\n",
              "    }\n",
              "\n",
              "    [theme=dark] .colab-df-convert {\n",
              "      background-color: #3B4455;\n",
              "      fill: #D2E3FC;\n",
              "    }\n",
              "\n",
              "    [theme=dark] .colab-df-convert:hover {\n",
              "      background-color: #434B5C;\n",
              "      box-shadow: 0px 1px 3px 1px rgba(0, 0, 0, 0.15);\n",
              "      filter: drop-shadow(0px 1px 2px rgba(0, 0, 0, 0.3));\n",
              "      fill: #FFFFFF;\n",
              "    }\n",
              "  </style>\n",
              "\n",
              "      <script>\n",
              "        const buttonEl =\n",
              "          document.querySelector('#df-48aebafa-2161-48f9-80a6-383bc18ff9c4 button.colab-df-convert');\n",
              "        buttonEl.style.display =\n",
              "          google.colab.kernel.accessAllowed ? 'block' : 'none';\n",
              "\n",
              "        async function convertToInteractive(key) {\n",
              "          const element = document.querySelector('#df-48aebafa-2161-48f9-80a6-383bc18ff9c4');\n",
              "          const dataTable =\n",
              "            await google.colab.kernel.invokeFunction('convertToInteractive',\n",
              "                                                     [key], {});\n",
              "          if (!dataTable) return;\n",
              "\n",
              "          const docLinkHtml = 'Like what you see? Visit the ' +\n",
              "            '<a target=\"_blank\" href=https://colab.research.google.com/notebooks/data_table.ipynb>data table notebook</a>'\n",
              "            + ' to learn more about interactive tables.';\n",
              "          element.innerHTML = '';\n",
              "          dataTable['output_type'] = 'display_data';\n",
              "          await google.colab.output.renderOutput(dataTable, element);\n",
              "          const docLink = document.createElement('div');\n",
              "          docLink.innerHTML = docLinkHtml;\n",
              "          element.appendChild(docLink);\n",
              "        }\n",
              "      </script>\n",
              "    </div>\n",
              "  </div>\n",
              "  "
            ]
          },
          "metadata": {},
          "execution_count": 5
        }
      ]
    },
    {
      "cell_type": "code",
      "source": [
        "import numpy as np\n",
        "import hashlib"
      ],
      "metadata": {
        "id": "zOKoyshmK6mC"
      },
      "execution_count": null,
      "outputs": []
    },
    {
      "cell_type": "code",
      "source": [
        "# algritmo euclideano extendido \n",
        "# a - grupo\n",
        "# b - elemento\n",
        "def alg_euc_ext(a,b):\n",
        "  if b == 0:\n",
        "    d = a; x = 1; y =0\n",
        "    return d,x, y\n",
        "  \n",
        "  x1 = 0; x2 = 1; y1 = 1; y2 = 0\n",
        "\n",
        "  while b != 0:\n",
        "    q = int(a/b)\n",
        "    r = a - q*b\n",
        "    x = x2 - q*x1\n",
        "    y = y2 - q*y1\n",
        "    a = b\n",
        "    b = r\n",
        "    x2 =x1\n",
        "    x1 = x\n",
        "    y2 = y1\n",
        "    y1 = y\n",
        "\n",
        "  d = a; x = x2; y = y2\n",
        "  # y es inverso de a\n",
        "  return d,x,y\n",
        "\n",
        "def firmado_dsa(curve, m):\n",
        "  # Generación de clave\n",
        "  q = curve.field.n\n",
        "  P = curve.g # element G of prime order q is chosen in E(GF(p))\n",
        "  x = secrets.randbelow(q) #privkey\n",
        "  Q = x * P # pubkey\n",
        "  #h = hashlib.sha1(m)\n",
        "  h = int(hashlib.sha512(m).hexdigest(),16)\n",
        "  #Firma digital\n",
        "  r = 0\n",
        "  s = 0\n",
        "\n",
        "  while r == 0 or s == 0:\n",
        "    k = secrets.randbelow(q)\n",
        "    kP = k * P\n",
        "    r = kP.x % q \n",
        "    l = alg_euc_ext(q, k)[2] # inverso de k\n",
        "    s = (l*(h + x*r))%q \n",
        "  return r, s, Q, h\n",
        "\n",
        "def verificado_dsa(curve, r, s, Q, h):\n",
        "  #Generaicón de clave\n",
        "  q = curve.field.n\n",
        "  P = curve.g\n",
        "  \n",
        "  #Verificación de la firma\n",
        "  if 1<=r and 1<=s and r<=(q-1) and s<=(q-1):\n",
        "    w = alg_euc_ext(curve.field.n, s)[2] # invserso s\n",
        "    u1 = h * w % q\n",
        "    u2 = r * w % q\n",
        "    v = (u1*P + u2*Q).x%q\n",
        "    if v == r:\n",
        "      print('Se acepta la firma')\n",
        "    else:\n",
        "      print('Se rechaza la firma')\n",
        "\n",
        "  else:\n",
        "    print('Error: no cumple con 1<=r, s<=q-1')"
      ],
      "metadata": {
        "id": "NkkgSL9w4qVB"
      },
      "execution_count": null,
      "outputs": []
    },
    {
      "cell_type": "markdown",
      "source": [
        "## Ejemplo con curva"
      ],
      "metadata": {
        "id": "fuWwp_ciqURm"
      }
    },
    {
      "cell_type": "code",
      "source": [
        "curve = registry.get_curve('brainpoolP256r1')\n",
        "# Se convierte la base de datos a bytes para su manejo\n",
        "m = pickle.dumps(dataset, protocol=4)\n",
        "\n",
        "r,s,Q,h= firmado_dsa(curve, m)\n",
        "\n",
        "verificado_dsa(curve, r, s, Q, h)"
      ],
      "metadata": {
        "id": "V7CpB7as5Yke",
        "colab": {
          "base_uri": "https://localhost:8080/"
        },
        "outputId": "209aeae5-582b-4b67-ed7a-d12d2f3c7349"
      },
      "execution_count": null,
      "outputs": [
        {
          "output_type": "stream",
          "name": "stdout",
          "text": [
            "Se acepta la firma\n"
          ]
        }
      ]
    },
    {
      "cell_type": "markdown",
      "source": [
        "## Por renglón"
      ],
      "metadata": {
        "id": "PevY01K5qbXx"
      }
    },
    {
      "cell_type": "code",
      "source": [
        "# Firmado y lista con la curva, r, s y Q\n",
        "def firmado_df(df):\n",
        "  a = []\n",
        "  for i in df.index:\n",
        "    curve = registry.get_curve('brainpoolP256r1')\n",
        "    m = pickle.dumps(df.iloc[i].to_numpy(), protocol=4)\n",
        "    r,s,Q,h = firmado_dsa(curve, m)\n",
        "    a.append([curve, r,s,Q,h])\n",
        "  return a"
      ],
      "metadata": {
        "id": "NDxKq-udlUx2"
      },
      "execution_count": null,
      "outputs": []
    },
    {
      "cell_type": "code",
      "source": [
        "# Verificación firma\n",
        "def ver_df(a):\n",
        "  for i in range(len(a)):\n",
        "    verificado_dsa(a[i][0],a[i][1],a[i][2],a[i][3],a[i][4])"
      ],
      "metadata": {
        "id": "y8-O9zBamQM5"
      },
      "execution_count": null,
      "outputs": []
    },
    {
      "cell_type": "code",
      "source": [
        "ver_df(firmado_df(dataset.iloc[0:5]))"
      ],
      "metadata": {
        "colab": {
          "base_uri": "https://localhost:8080/"
        },
        "id": "D8UR4a9dojO7",
        "outputId": "e449a87c-014a-4aa3-e2d6-c47d016f2130"
      },
      "execution_count": null,
      "outputs": [
        {
          "output_type": "stream",
          "name": "stdout",
          "text": [
            "Se acepta la firma\n",
            "Se acepta la firma\n",
            "Se acepta la firma\n",
            "Se acepta la firma\n",
            "Se acepta la firma\n"
          ]
        }
      ]
    }
  ]
}